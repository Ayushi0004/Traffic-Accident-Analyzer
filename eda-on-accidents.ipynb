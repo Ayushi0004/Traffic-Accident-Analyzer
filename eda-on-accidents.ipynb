{
 "cells": [
  {
   "cell_type": "code",
   "execution_count": 1,
   "id": "ce39ef04",
   "metadata": {
    "_cell_guid": "b1076dfc-b9ad-4769-8c92-a6c4dae69d19",
    "_uuid": "8f2839f25d086af736a60e9eeb907d3b93b6e0e5",
    "execution": {
     "iopub.execute_input": "2024-09-11T08:13:24.478755Z",
     "iopub.status.busy": "2024-09-11T08:13:24.478306Z",
     "iopub.status.idle": "2024-09-11T08:13:25.719162Z",
     "shell.execute_reply": "2024-09-11T08:13:25.717903Z"
    },
    "papermill": {
     "duration": 1.265004,
     "end_time": "2024-09-11T08:13:25.722211",
     "exception": false,
     "start_time": "2024-09-11T08:13:24.457207",
     "status": "completed"
    },
    "tags": []
   },
   "outputs": [],
   "source": [
    "import pandas as pd\n",
    "import numpy as np\n",
    "import plotly.express as px\n",
    "import matplotlib.pyplot as plt"
   ]
  },
  {
   "cell_type": "markdown",
   "id": "d1823be5",
   "metadata": {
    "papermill": {
     "duration": 0.019537,
     "end_time": "2024-09-11T08:13:25.760756",
     "exception": false,
     "start_time": "2024-09-11T08:13:25.741219",
     "status": "completed"
    },
    "tags": []
   },
   "source": [
    "# Load the Data set"
   ]
  },
  {
   "cell_type": "markdown",
   "id": "cb6ee9ae",
   "metadata": {
    "papermill": {
     "duration": 0.018311,
     "end_time": "2024-09-11T08:13:25.797612",
     "exception": false,
     "start_time": "2024-09-11T08:13:25.779301",
     "status": "completed"
    },
    "tags": []
   },
   "source": []
  },
  {
   "cell_type": "code",
   "execution_count": 2,
   "id": "1daa3a67",
   "metadata": {
    "execution": {
     "iopub.execute_input": "2024-09-11T08:13:25.836638Z",
     "iopub.status.busy": "2024-09-11T08:13:25.835999Z",
     "iopub.status.idle": "2024-09-11T08:13:26.087161Z",
     "shell.execute_reply": "2024-09-11T08:13:26.085875Z"
    },
    "papermill": {
     "duration": 0.273885,
     "end_time": "2024-09-11T08:13:26.089920",
     "exception": false,
     "start_time": "2024-09-11T08:13:25.816035",
     "status": "completed"
    },
    "tags": []
   },
   "outputs": [
    {
     "data": {
      "text/html": [
       "<div>\n",
       "<style scoped>\n",
       "    .dataframe tbody tr th:only-of-type {\n",
       "        vertical-align: middle;\n",
       "    }\n",
       "\n",
       "    .dataframe tbody tr th {\n",
       "        vertical-align: top;\n",
       "    }\n",
       "\n",
       "    .dataframe thead th {\n",
       "        text-align: right;\n",
       "    }\n",
       "</style>\n",
       "<table border=\"1\" class=\"dataframe\">\n",
       "  <thead>\n",
       "    <tr style=\"text-align: right;\">\n",
       "      <th></th>\n",
       "      <th>Time</th>\n",
       "      <th>Day_of_week</th>\n",
       "      <th>Age_band_of_driver</th>\n",
       "      <th>Sex_of_driver</th>\n",
       "      <th>Educational_level</th>\n",
       "      <th>Vehicle_driver_relation</th>\n",
       "      <th>Driving_experience</th>\n",
       "      <th>Type_of_vehicle</th>\n",
       "      <th>Owner_of_vehicle</th>\n",
       "      <th>Service_year_of_vehicle</th>\n",
       "      <th>...</th>\n",
       "      <th>Vehicle_movement</th>\n",
       "      <th>Casualty_class</th>\n",
       "      <th>Sex_of_casualty</th>\n",
       "      <th>Age_band_of_casualty</th>\n",
       "      <th>Casualty_severity</th>\n",
       "      <th>Work_of_casuality</th>\n",
       "      <th>Fitness_of_casuality</th>\n",
       "      <th>Pedestrian_movement</th>\n",
       "      <th>Cause_of_accident</th>\n",
       "      <th>Accident_severity</th>\n",
       "    </tr>\n",
       "  </thead>\n",
       "  <tbody>\n",
       "    <tr>\n",
       "      <th>0</th>\n",
       "      <td>17:02:00</td>\n",
       "      <td>Monday</td>\n",
       "      <td>18-30</td>\n",
       "      <td>Male</td>\n",
       "      <td>Above high school</td>\n",
       "      <td>Employee</td>\n",
       "      <td>1-2yr</td>\n",
       "      <td>Automobile</td>\n",
       "      <td>Owner</td>\n",
       "      <td>Above 10yr</td>\n",
       "      <td>...</td>\n",
       "      <td>Going straight</td>\n",
       "      <td>na</td>\n",
       "      <td>na</td>\n",
       "      <td>na</td>\n",
       "      <td>na</td>\n",
       "      <td>NaN</td>\n",
       "      <td>NaN</td>\n",
       "      <td>Not a Pedestrian</td>\n",
       "      <td>Moving Backward</td>\n",
       "      <td>Slight Injury</td>\n",
       "    </tr>\n",
       "    <tr>\n",
       "      <th>1</th>\n",
       "      <td>17:02:00</td>\n",
       "      <td>Monday</td>\n",
       "      <td>31-50</td>\n",
       "      <td>Male</td>\n",
       "      <td>Junior high school</td>\n",
       "      <td>Employee</td>\n",
       "      <td>Above 10yr</td>\n",
       "      <td>Public (&gt; 45 seats)</td>\n",
       "      <td>Owner</td>\n",
       "      <td>5-10yrs</td>\n",
       "      <td>...</td>\n",
       "      <td>Going straight</td>\n",
       "      <td>na</td>\n",
       "      <td>na</td>\n",
       "      <td>na</td>\n",
       "      <td>na</td>\n",
       "      <td>NaN</td>\n",
       "      <td>NaN</td>\n",
       "      <td>Not a Pedestrian</td>\n",
       "      <td>Overtaking</td>\n",
       "      <td>Slight Injury</td>\n",
       "    </tr>\n",
       "    <tr>\n",
       "      <th>2</th>\n",
       "      <td>17:02:00</td>\n",
       "      <td>Monday</td>\n",
       "      <td>18-30</td>\n",
       "      <td>Male</td>\n",
       "      <td>Junior high school</td>\n",
       "      <td>Employee</td>\n",
       "      <td>1-2yr</td>\n",
       "      <td>Lorry (41?100Q)</td>\n",
       "      <td>Owner</td>\n",
       "      <td>NaN</td>\n",
       "      <td>...</td>\n",
       "      <td>Going straight</td>\n",
       "      <td>Driver or rider</td>\n",
       "      <td>Male</td>\n",
       "      <td>31-50</td>\n",
       "      <td>3</td>\n",
       "      <td>Driver</td>\n",
       "      <td>NaN</td>\n",
       "      <td>Not a Pedestrian</td>\n",
       "      <td>Changing lane to the left</td>\n",
       "      <td>Serious Injury</td>\n",
       "    </tr>\n",
       "    <tr>\n",
       "      <th>3</th>\n",
       "      <td>1:06:00</td>\n",
       "      <td>Sunday</td>\n",
       "      <td>18-30</td>\n",
       "      <td>Male</td>\n",
       "      <td>Junior high school</td>\n",
       "      <td>Employee</td>\n",
       "      <td>5-10yr</td>\n",
       "      <td>Public (&gt; 45 seats)</td>\n",
       "      <td>Governmental</td>\n",
       "      <td>NaN</td>\n",
       "      <td>...</td>\n",
       "      <td>Going straight</td>\n",
       "      <td>Pedestrian</td>\n",
       "      <td>Female</td>\n",
       "      <td>18-30</td>\n",
       "      <td>3</td>\n",
       "      <td>Driver</td>\n",
       "      <td>Normal</td>\n",
       "      <td>Not a Pedestrian</td>\n",
       "      <td>Changing lane to the right</td>\n",
       "      <td>Slight Injury</td>\n",
       "    </tr>\n",
       "    <tr>\n",
       "      <th>4</th>\n",
       "      <td>1:06:00</td>\n",
       "      <td>Sunday</td>\n",
       "      <td>18-30</td>\n",
       "      <td>Male</td>\n",
       "      <td>Junior high school</td>\n",
       "      <td>Employee</td>\n",
       "      <td>2-5yr</td>\n",
       "      <td>NaN</td>\n",
       "      <td>Owner</td>\n",
       "      <td>5-10yrs</td>\n",
       "      <td>...</td>\n",
       "      <td>Going straight</td>\n",
       "      <td>na</td>\n",
       "      <td>na</td>\n",
       "      <td>na</td>\n",
       "      <td>na</td>\n",
       "      <td>NaN</td>\n",
       "      <td>NaN</td>\n",
       "      <td>Not a Pedestrian</td>\n",
       "      <td>Overtaking</td>\n",
       "      <td>Slight Injury</td>\n",
       "    </tr>\n",
       "    <tr>\n",
       "      <th>...</th>\n",
       "      <td>...</td>\n",
       "      <td>...</td>\n",
       "      <td>...</td>\n",
       "      <td>...</td>\n",
       "      <td>...</td>\n",
       "      <td>...</td>\n",
       "      <td>...</td>\n",
       "      <td>...</td>\n",
       "      <td>...</td>\n",
       "      <td>...</td>\n",
       "      <td>...</td>\n",
       "      <td>...</td>\n",
       "      <td>...</td>\n",
       "      <td>...</td>\n",
       "      <td>...</td>\n",
       "      <td>...</td>\n",
       "      <td>...</td>\n",
       "      <td>...</td>\n",
       "      <td>...</td>\n",
       "      <td>...</td>\n",
       "      <td>...</td>\n",
       "    </tr>\n",
       "    <tr>\n",
       "      <th>12311</th>\n",
       "      <td>16:15:00</td>\n",
       "      <td>Wednesday</td>\n",
       "      <td>31-50</td>\n",
       "      <td>Male</td>\n",
       "      <td>NaN</td>\n",
       "      <td>Employee</td>\n",
       "      <td>2-5yr</td>\n",
       "      <td>Lorry (11?40Q)</td>\n",
       "      <td>Owner</td>\n",
       "      <td>NaN</td>\n",
       "      <td>...</td>\n",
       "      <td>Going straight</td>\n",
       "      <td>na</td>\n",
       "      <td>na</td>\n",
       "      <td>na</td>\n",
       "      <td>na</td>\n",
       "      <td>Driver</td>\n",
       "      <td>Normal</td>\n",
       "      <td>Not a Pedestrian</td>\n",
       "      <td>No distancing</td>\n",
       "      <td>Slight Injury</td>\n",
       "    </tr>\n",
       "    <tr>\n",
       "      <th>12312</th>\n",
       "      <td>18:00:00</td>\n",
       "      <td>Sunday</td>\n",
       "      <td>Unknown</td>\n",
       "      <td>Male</td>\n",
       "      <td>Elementary school</td>\n",
       "      <td>Employee</td>\n",
       "      <td>5-10yr</td>\n",
       "      <td>Automobile</td>\n",
       "      <td>Owner</td>\n",
       "      <td>NaN</td>\n",
       "      <td>...</td>\n",
       "      <td>Other</td>\n",
       "      <td>na</td>\n",
       "      <td>na</td>\n",
       "      <td>na</td>\n",
       "      <td>na</td>\n",
       "      <td>Driver</td>\n",
       "      <td>Normal</td>\n",
       "      <td>Not a Pedestrian</td>\n",
       "      <td>No distancing</td>\n",
       "      <td>Slight Injury</td>\n",
       "    </tr>\n",
       "    <tr>\n",
       "      <th>12313</th>\n",
       "      <td>13:55:00</td>\n",
       "      <td>Sunday</td>\n",
       "      <td>Over 51</td>\n",
       "      <td>Male</td>\n",
       "      <td>Junior high school</td>\n",
       "      <td>Employee</td>\n",
       "      <td>5-10yr</td>\n",
       "      <td>Bajaj</td>\n",
       "      <td>Owner</td>\n",
       "      <td>2-5yrs</td>\n",
       "      <td>...</td>\n",
       "      <td>Other</td>\n",
       "      <td>Driver or rider</td>\n",
       "      <td>Male</td>\n",
       "      <td>31-50</td>\n",
       "      <td>3</td>\n",
       "      <td>Driver</td>\n",
       "      <td>Normal</td>\n",
       "      <td>Not a Pedestrian</td>\n",
       "      <td>Changing lane to the right</td>\n",
       "      <td>Serious Injury</td>\n",
       "    </tr>\n",
       "    <tr>\n",
       "      <th>12314</th>\n",
       "      <td>13:55:00</td>\n",
       "      <td>Sunday</td>\n",
       "      <td>18-30</td>\n",
       "      <td>Female</td>\n",
       "      <td>Junior high school</td>\n",
       "      <td>Employee</td>\n",
       "      <td>Above 10yr</td>\n",
       "      <td>Lorry (41?100Q)</td>\n",
       "      <td>Owner</td>\n",
       "      <td>2-5yrs</td>\n",
       "      <td>...</td>\n",
       "      <td>Other</td>\n",
       "      <td>na</td>\n",
       "      <td>na</td>\n",
       "      <td>na</td>\n",
       "      <td>na</td>\n",
       "      <td>Driver</td>\n",
       "      <td>Normal</td>\n",
       "      <td>Not a Pedestrian</td>\n",
       "      <td>Driving under the influence of drugs</td>\n",
       "      <td>Slight Injury</td>\n",
       "    </tr>\n",
       "    <tr>\n",
       "      <th>12315</th>\n",
       "      <td>13:55:00</td>\n",
       "      <td>Sunday</td>\n",
       "      <td>18-30</td>\n",
       "      <td>Male</td>\n",
       "      <td>Junior high school</td>\n",
       "      <td>Employee</td>\n",
       "      <td>5-10yr</td>\n",
       "      <td>Other</td>\n",
       "      <td>Owner</td>\n",
       "      <td>2-5yrs</td>\n",
       "      <td>...</td>\n",
       "      <td>Stopping</td>\n",
       "      <td>Pedestrian</td>\n",
       "      <td>Female</td>\n",
       "      <td>5</td>\n",
       "      <td>3</td>\n",
       "      <td>Driver</td>\n",
       "      <td>Normal</td>\n",
       "      <td>Crossing from nearside - masked by parked or s...</td>\n",
       "      <td>Changing lane to the right</td>\n",
       "      <td>Slight Injury</td>\n",
       "    </tr>\n",
       "  </tbody>\n",
       "</table>\n",
       "<p>12316 rows × 32 columns</p>\n",
       "</div>"
      ],
      "text/plain": [
       "           Time Day_of_week Age_band_of_driver Sex_of_driver  \\\n",
       "0      17:02:00      Monday              18-30          Male   \n",
       "1      17:02:00      Monday              31-50          Male   \n",
       "2      17:02:00      Monday              18-30          Male   \n",
       "3       1:06:00      Sunday              18-30          Male   \n",
       "4       1:06:00      Sunday              18-30          Male   \n",
       "...         ...         ...                ...           ...   \n",
       "12311  16:15:00   Wednesday              31-50          Male   \n",
       "12312  18:00:00      Sunday            Unknown          Male   \n",
       "12313  13:55:00      Sunday            Over 51          Male   \n",
       "12314  13:55:00      Sunday              18-30        Female   \n",
       "12315  13:55:00      Sunday              18-30          Male   \n",
       "\n",
       "        Educational_level Vehicle_driver_relation Driving_experience  \\\n",
       "0       Above high school                Employee              1-2yr   \n",
       "1      Junior high school                Employee         Above 10yr   \n",
       "2      Junior high school                Employee              1-2yr   \n",
       "3      Junior high school                Employee             5-10yr   \n",
       "4      Junior high school                Employee              2-5yr   \n",
       "...                   ...                     ...                ...   \n",
       "12311                 NaN                Employee              2-5yr   \n",
       "12312   Elementary school                Employee             5-10yr   \n",
       "12313  Junior high school                Employee             5-10yr   \n",
       "12314  Junior high school                Employee         Above 10yr   \n",
       "12315  Junior high school                Employee             5-10yr   \n",
       "\n",
       "           Type_of_vehicle Owner_of_vehicle Service_year_of_vehicle  ...  \\\n",
       "0               Automobile            Owner              Above 10yr  ...   \n",
       "1      Public (> 45 seats)            Owner                 5-10yrs  ...   \n",
       "2          Lorry (41?100Q)            Owner                     NaN  ...   \n",
       "3      Public (> 45 seats)     Governmental                     NaN  ...   \n",
       "4                      NaN            Owner                 5-10yrs  ...   \n",
       "...                    ...              ...                     ...  ...   \n",
       "12311       Lorry (11?40Q)            Owner                     NaN  ...   \n",
       "12312           Automobile            Owner                     NaN  ...   \n",
       "12313                Bajaj            Owner                  2-5yrs  ...   \n",
       "12314      Lorry (41?100Q)            Owner                  2-5yrs  ...   \n",
       "12315                Other            Owner                  2-5yrs  ...   \n",
       "\n",
       "      Vehicle_movement   Casualty_class Sex_of_casualty Age_band_of_casualty  \\\n",
       "0       Going straight               na              na                   na   \n",
       "1       Going straight               na              na                   na   \n",
       "2       Going straight  Driver or rider            Male                31-50   \n",
       "3       Going straight       Pedestrian          Female                18-30   \n",
       "4       Going straight               na              na                   na   \n",
       "...                ...              ...             ...                  ...   \n",
       "12311   Going straight               na              na                   na   \n",
       "12312            Other               na              na                   na   \n",
       "12313            Other  Driver or rider            Male                31-50   \n",
       "12314            Other               na              na                   na   \n",
       "12315         Stopping       Pedestrian          Female                    5   \n",
       "\n",
       "      Casualty_severity Work_of_casuality Fitness_of_casuality  \\\n",
       "0                    na               NaN                  NaN   \n",
       "1                    na               NaN                  NaN   \n",
       "2                     3            Driver                  NaN   \n",
       "3                     3            Driver               Normal   \n",
       "4                    na               NaN                  NaN   \n",
       "...                 ...               ...                  ...   \n",
       "12311                na            Driver               Normal   \n",
       "12312                na            Driver               Normal   \n",
       "12313                 3            Driver               Normal   \n",
       "12314                na            Driver               Normal   \n",
       "12315                 3            Driver               Normal   \n",
       "\n",
       "                                     Pedestrian_movement  \\\n",
       "0                                       Not a Pedestrian   \n",
       "1                                       Not a Pedestrian   \n",
       "2                                       Not a Pedestrian   \n",
       "3                                       Not a Pedestrian   \n",
       "4                                       Not a Pedestrian   \n",
       "...                                                  ...   \n",
       "12311                                   Not a Pedestrian   \n",
       "12312                                   Not a Pedestrian   \n",
       "12313                                   Not a Pedestrian   \n",
       "12314                                   Not a Pedestrian   \n",
       "12315  Crossing from nearside - masked by parked or s...   \n",
       "\n",
       "                          Cause_of_accident Accident_severity  \n",
       "0                           Moving Backward     Slight Injury  \n",
       "1                                Overtaking     Slight Injury  \n",
       "2                 Changing lane to the left    Serious Injury  \n",
       "3                Changing lane to the right     Slight Injury  \n",
       "4                                Overtaking     Slight Injury  \n",
       "...                                     ...               ...  \n",
       "12311                         No distancing     Slight Injury  \n",
       "12312                         No distancing     Slight Injury  \n",
       "12313            Changing lane to the right    Serious Injury  \n",
       "12314  Driving under the influence of drugs     Slight Injury  \n",
       "12315            Changing lane to the right     Slight Injury  \n",
       "\n",
       "[12316 rows x 32 columns]"
      ]
     },
     "execution_count": 2,
     "metadata": {},
     "output_type": "execute_result"
    }
   ],
   "source": [
    "df1=pd.read_csv(\"/kaggle/input/road-accident-severity-in-india/Road.csv\")\n",
    "df1"
   ]
  },
  {
   "cell_type": "markdown",
   "id": "73d3c1e4",
   "metadata": {
    "papermill": {
     "duration": 0.019101,
     "end_time": "2024-09-11T08:13:26.128926",
     "exception": false,
     "start_time": "2024-09-11T08:13:26.109825",
     "status": "completed"
    },
    "tags": []
   },
   "source": [
    "# Understand the Dataset"
   ]
  },
  {
   "cell_type": "code",
   "execution_count": null,
   "id": "f8edf10c",
   "metadata": {
    "execution": {
     "iopub.execute_input": "2024-09-11T08:13:26.170850Z",
     "iopub.status.busy": "2024-09-11T08:13:26.170406Z",
     "iopub.status.idle": "2024-09-11T08:13:26.178889Z",
     "shell.execute_reply": "2024-09-11T08:13:26.177622Z"
    },
    "papermill": {
     "duration": 0.032177,
     "end_time": "2024-09-11T08:13:26.181765",
     "exception": false,
     "start_time": "2024-09-11T08:13:26.149588",
     "status": "completed"
    },
    "tags": []
   },
   "outputs": [
    {
     "name": "stdout",
     "output_type": "stream",
     "text": [
      "no of rows\n"
     ]
    },
    {
     "data": {
      "text/plain": [
       "12316"
      ]
     },
     "execution_count": 3,
     "metadata": {},
     "output_type": "execute_result"
    }
   ],
   "source": [
    "print('no of rows')\n",
    "df1.shape[0]"
   ]
  },
  {
   "cell_type": "code",
   "execution_count": 4,
   "id": "0477c20c",
   "metadata": {
    "execution": {
     "iopub.execute_input": "2024-09-11T08:13:26.222488Z",
     "iopub.status.busy": "2024-09-11T08:13:26.222074Z",
     "iopub.status.idle": "2024-09-11T08:13:26.230497Z",
     "shell.execute_reply": "2024-09-11T08:13:26.229053Z"
    },
    "papermill": {
     "duration": 0.032453,
     "end_time": "2024-09-11T08:13:26.233657",
     "exception": false,
     "start_time": "2024-09-11T08:13:26.201204",
     "status": "completed"
    },
    "tags": []
   },
   "outputs": [
    {
     "name": "stdout",
     "output_type": "stream",
     "text": [
      "no of columns\n"
     ]
    },
    {
     "data": {
      "text/plain": [
       "32"
      ]
     },
     "execution_count": 4,
     "metadata": {},
     "output_type": "execute_result"
    }
   ],
   "source": [
    "print('no of columns')\n",
    "df1.shape[1]"
   ]
  },
  {
   "cell_type": "code",
   "execution_count": 5,
   "id": "581809aa",
   "metadata": {
    "execution": {
     "iopub.execute_input": "2024-09-11T08:13:26.275232Z",
     "iopub.status.busy": "2024-09-11T08:13:26.274744Z",
     "iopub.status.idle": "2024-09-11T08:13:26.296722Z",
     "shell.execute_reply": "2024-09-11T08:13:26.295547Z"
    },
    "papermill": {
     "duration": 0.045886,
     "end_time": "2024-09-11T08:13:26.299425",
     "exception": false,
     "start_time": "2024-09-11T08:13:26.253539",
     "status": "completed"
    },
    "tags": []
   },
   "outputs": [
    {
     "data": {
      "text/html": [
       "<div>\n",
       "<style scoped>\n",
       "    .dataframe tbody tr th:only-of-type {\n",
       "        vertical-align: middle;\n",
       "    }\n",
       "\n",
       "    .dataframe tbody tr th {\n",
       "        vertical-align: top;\n",
       "    }\n",
       "\n",
       "    .dataframe thead th {\n",
       "        text-align: right;\n",
       "    }\n",
       "</style>\n",
       "<table border=\"1\" class=\"dataframe\">\n",
       "  <thead>\n",
       "    <tr style=\"text-align: right;\">\n",
       "      <th></th>\n",
       "      <th>Number_of_vehicles_involved</th>\n",
       "      <th>Number_of_casualties</th>\n",
       "    </tr>\n",
       "  </thead>\n",
       "  <tbody>\n",
       "    <tr>\n",
       "      <th>count</th>\n",
       "      <td>12316.000000</td>\n",
       "      <td>12316.000000</td>\n",
       "    </tr>\n",
       "    <tr>\n",
       "      <th>mean</th>\n",
       "      <td>2.040679</td>\n",
       "      <td>1.548149</td>\n",
       "    </tr>\n",
       "    <tr>\n",
       "      <th>std</th>\n",
       "      <td>0.688790</td>\n",
       "      <td>1.007179</td>\n",
       "    </tr>\n",
       "    <tr>\n",
       "      <th>min</th>\n",
       "      <td>1.000000</td>\n",
       "      <td>1.000000</td>\n",
       "    </tr>\n",
       "    <tr>\n",
       "      <th>25%</th>\n",
       "      <td>2.000000</td>\n",
       "      <td>1.000000</td>\n",
       "    </tr>\n",
       "    <tr>\n",
       "      <th>50%</th>\n",
       "      <td>2.000000</td>\n",
       "      <td>1.000000</td>\n",
       "    </tr>\n",
       "    <tr>\n",
       "      <th>75%</th>\n",
       "      <td>2.000000</td>\n",
       "      <td>2.000000</td>\n",
       "    </tr>\n",
       "    <tr>\n",
       "      <th>max</th>\n",
       "      <td>7.000000</td>\n",
       "      <td>8.000000</td>\n",
       "    </tr>\n",
       "  </tbody>\n",
       "</table>\n",
       "</div>"
      ],
      "text/plain": [
       "       Number_of_vehicles_involved  Number_of_casualties\n",
       "count                 12316.000000          12316.000000\n",
       "mean                      2.040679              1.548149\n",
       "std                       0.688790              1.007179\n",
       "min                       1.000000              1.000000\n",
       "25%                       2.000000              1.000000\n",
       "50%                       2.000000              1.000000\n",
       "75%                       2.000000              2.000000\n",
       "max                       7.000000              8.000000"
      ]
     },
     "execution_count": 5,
     "metadata": {},
     "output_type": "execute_result"
    }
   ],
   "source": [
    "df1.describe()"
   ]
  },
  {
   "cell_type": "code",
   "execution_count": 6,
   "id": "a5427d7a",
   "metadata": {
    "execution": {
     "iopub.execute_input": "2024-09-11T08:13:26.342661Z",
     "iopub.status.busy": "2024-09-11T08:13:26.342210Z",
     "iopub.status.idle": "2024-09-11T08:13:26.536258Z",
     "shell.execute_reply": "2024-09-11T08:13:26.534881Z"
    },
    "papermill": {
     "duration": 0.219387,
     "end_time": "2024-09-11T08:13:26.538979",
     "exception": false,
     "start_time": "2024-09-11T08:13:26.319592",
     "status": "completed"
    },
    "tags": []
   },
   "outputs": [
    {
     "data": {
      "text/html": [
       "<div>\n",
       "<style scoped>\n",
       "    .dataframe tbody tr th:only-of-type {\n",
       "        vertical-align: middle;\n",
       "    }\n",
       "\n",
       "    .dataframe tbody tr th {\n",
       "        vertical-align: top;\n",
       "    }\n",
       "\n",
       "    .dataframe thead th {\n",
       "        text-align: right;\n",
       "    }\n",
       "</style>\n",
       "<table border=\"1\" class=\"dataframe\">\n",
       "  <thead>\n",
       "    <tr style=\"text-align: right;\">\n",
       "      <th></th>\n",
       "      <th>Time</th>\n",
       "      <th>Day_of_week</th>\n",
       "      <th>Age_band_of_driver</th>\n",
       "      <th>Sex_of_driver</th>\n",
       "      <th>Educational_level</th>\n",
       "      <th>Vehicle_driver_relation</th>\n",
       "      <th>Driving_experience</th>\n",
       "      <th>Type_of_vehicle</th>\n",
       "      <th>Owner_of_vehicle</th>\n",
       "      <th>Service_year_of_vehicle</th>\n",
       "      <th>...</th>\n",
       "      <th>Vehicle_movement</th>\n",
       "      <th>Casualty_class</th>\n",
       "      <th>Sex_of_casualty</th>\n",
       "      <th>Age_band_of_casualty</th>\n",
       "      <th>Casualty_severity</th>\n",
       "      <th>Work_of_casuality</th>\n",
       "      <th>Fitness_of_casuality</th>\n",
       "      <th>Pedestrian_movement</th>\n",
       "      <th>Cause_of_accident</th>\n",
       "      <th>Accident_severity</th>\n",
       "    </tr>\n",
       "  </thead>\n",
       "  <tbody>\n",
       "    <tr>\n",
       "      <th>count</th>\n",
       "      <td>12316</td>\n",
       "      <td>12316</td>\n",
       "      <td>12316</td>\n",
       "      <td>12316</td>\n",
       "      <td>11575</td>\n",
       "      <td>11737</td>\n",
       "      <td>11487</td>\n",
       "      <td>11366</td>\n",
       "      <td>11834</td>\n",
       "      <td>8388</td>\n",
       "      <td>...</td>\n",
       "      <td>12008</td>\n",
       "      <td>12316</td>\n",
       "      <td>12316</td>\n",
       "      <td>12316</td>\n",
       "      <td>12316</td>\n",
       "      <td>9118</td>\n",
       "      <td>9681</td>\n",
       "      <td>12316</td>\n",
       "      <td>12316</td>\n",
       "      <td>12316</td>\n",
       "    </tr>\n",
       "    <tr>\n",
       "      <th>unique</th>\n",
       "      <td>1074</td>\n",
       "      <td>7</td>\n",
       "      <td>5</td>\n",
       "      <td>3</td>\n",
       "      <td>7</td>\n",
       "      <td>4</td>\n",
       "      <td>7</td>\n",
       "      <td>17</td>\n",
       "      <td>4</td>\n",
       "      <td>6</td>\n",
       "      <td>...</td>\n",
       "      <td>13</td>\n",
       "      <td>4</td>\n",
       "      <td>3</td>\n",
       "      <td>6</td>\n",
       "      <td>4</td>\n",
       "      <td>7</td>\n",
       "      <td>5</td>\n",
       "      <td>9</td>\n",
       "      <td>20</td>\n",
       "      <td>3</td>\n",
       "    </tr>\n",
       "    <tr>\n",
       "      <th>top</th>\n",
       "      <td>15:30:00</td>\n",
       "      <td>Friday</td>\n",
       "      <td>18-30</td>\n",
       "      <td>Male</td>\n",
       "      <td>Junior high school</td>\n",
       "      <td>Employee</td>\n",
       "      <td>5-10yr</td>\n",
       "      <td>Automobile</td>\n",
       "      <td>Owner</td>\n",
       "      <td>Unknown</td>\n",
       "      <td>...</td>\n",
       "      <td>Going straight</td>\n",
       "      <td>Driver or rider</td>\n",
       "      <td>Male</td>\n",
       "      <td>na</td>\n",
       "      <td>3</td>\n",
       "      <td>Driver</td>\n",
       "      <td>Normal</td>\n",
       "      <td>Not a Pedestrian</td>\n",
       "      <td>No distancing</td>\n",
       "      <td>Slight Injury</td>\n",
       "    </tr>\n",
       "    <tr>\n",
       "      <th>freq</th>\n",
       "      <td>120</td>\n",
       "      <td>2041</td>\n",
       "      <td>4271</td>\n",
       "      <td>11437</td>\n",
       "      <td>7619</td>\n",
       "      <td>9627</td>\n",
       "      <td>3363</td>\n",
       "      <td>3205</td>\n",
       "      <td>10459</td>\n",
       "      <td>2883</td>\n",
       "      <td>...</td>\n",
       "      <td>8158</td>\n",
       "      <td>4944</td>\n",
       "      <td>5253</td>\n",
       "      <td>4443</td>\n",
       "      <td>7076</td>\n",
       "      <td>5903</td>\n",
       "      <td>9608</td>\n",
       "      <td>11390</td>\n",
       "      <td>2263</td>\n",
       "      <td>10415</td>\n",
       "    </tr>\n",
       "    <tr>\n",
       "      <th>mean</th>\n",
       "      <td>NaN</td>\n",
       "      <td>NaN</td>\n",
       "      <td>NaN</td>\n",
       "      <td>NaN</td>\n",
       "      <td>NaN</td>\n",
       "      <td>NaN</td>\n",
       "      <td>NaN</td>\n",
       "      <td>NaN</td>\n",
       "      <td>NaN</td>\n",
       "      <td>NaN</td>\n",
       "      <td>...</td>\n",
       "      <td>NaN</td>\n",
       "      <td>NaN</td>\n",
       "      <td>NaN</td>\n",
       "      <td>NaN</td>\n",
       "      <td>NaN</td>\n",
       "      <td>NaN</td>\n",
       "      <td>NaN</td>\n",
       "      <td>NaN</td>\n",
       "      <td>NaN</td>\n",
       "      <td>NaN</td>\n",
       "    </tr>\n",
       "    <tr>\n",
       "      <th>std</th>\n",
       "      <td>NaN</td>\n",
       "      <td>NaN</td>\n",
       "      <td>NaN</td>\n",
       "      <td>NaN</td>\n",
       "      <td>NaN</td>\n",
       "      <td>NaN</td>\n",
       "      <td>NaN</td>\n",
       "      <td>NaN</td>\n",
       "      <td>NaN</td>\n",
       "      <td>NaN</td>\n",
       "      <td>...</td>\n",
       "      <td>NaN</td>\n",
       "      <td>NaN</td>\n",
       "      <td>NaN</td>\n",
       "      <td>NaN</td>\n",
       "      <td>NaN</td>\n",
       "      <td>NaN</td>\n",
       "      <td>NaN</td>\n",
       "      <td>NaN</td>\n",
       "      <td>NaN</td>\n",
       "      <td>NaN</td>\n",
       "    </tr>\n",
       "    <tr>\n",
       "      <th>min</th>\n",
       "      <td>NaN</td>\n",
       "      <td>NaN</td>\n",
       "      <td>NaN</td>\n",
       "      <td>NaN</td>\n",
       "      <td>NaN</td>\n",
       "      <td>NaN</td>\n",
       "      <td>NaN</td>\n",
       "      <td>NaN</td>\n",
       "      <td>NaN</td>\n",
       "      <td>NaN</td>\n",
       "      <td>...</td>\n",
       "      <td>NaN</td>\n",
       "      <td>NaN</td>\n",
       "      <td>NaN</td>\n",
       "      <td>NaN</td>\n",
       "      <td>NaN</td>\n",
       "      <td>NaN</td>\n",
       "      <td>NaN</td>\n",
       "      <td>NaN</td>\n",
       "      <td>NaN</td>\n",
       "      <td>NaN</td>\n",
       "    </tr>\n",
       "    <tr>\n",
       "      <th>25%</th>\n",
       "      <td>NaN</td>\n",
       "      <td>NaN</td>\n",
       "      <td>NaN</td>\n",
       "      <td>NaN</td>\n",
       "      <td>NaN</td>\n",
       "      <td>NaN</td>\n",
       "      <td>NaN</td>\n",
       "      <td>NaN</td>\n",
       "      <td>NaN</td>\n",
       "      <td>NaN</td>\n",
       "      <td>...</td>\n",
       "      <td>NaN</td>\n",
       "      <td>NaN</td>\n",
       "      <td>NaN</td>\n",
       "      <td>NaN</td>\n",
       "      <td>NaN</td>\n",
       "      <td>NaN</td>\n",
       "      <td>NaN</td>\n",
       "      <td>NaN</td>\n",
       "      <td>NaN</td>\n",
       "      <td>NaN</td>\n",
       "    </tr>\n",
       "    <tr>\n",
       "      <th>50%</th>\n",
       "      <td>NaN</td>\n",
       "      <td>NaN</td>\n",
       "      <td>NaN</td>\n",
       "      <td>NaN</td>\n",
       "      <td>NaN</td>\n",
       "      <td>NaN</td>\n",
       "      <td>NaN</td>\n",
       "      <td>NaN</td>\n",
       "      <td>NaN</td>\n",
       "      <td>NaN</td>\n",
       "      <td>...</td>\n",
       "      <td>NaN</td>\n",
       "      <td>NaN</td>\n",
       "      <td>NaN</td>\n",
       "      <td>NaN</td>\n",
       "      <td>NaN</td>\n",
       "      <td>NaN</td>\n",
       "      <td>NaN</td>\n",
       "      <td>NaN</td>\n",
       "      <td>NaN</td>\n",
       "      <td>NaN</td>\n",
       "    </tr>\n",
       "    <tr>\n",
       "      <th>75%</th>\n",
       "      <td>NaN</td>\n",
       "      <td>NaN</td>\n",
       "      <td>NaN</td>\n",
       "      <td>NaN</td>\n",
       "      <td>NaN</td>\n",
       "      <td>NaN</td>\n",
       "      <td>NaN</td>\n",
       "      <td>NaN</td>\n",
       "      <td>NaN</td>\n",
       "      <td>NaN</td>\n",
       "      <td>...</td>\n",
       "      <td>NaN</td>\n",
       "      <td>NaN</td>\n",
       "      <td>NaN</td>\n",
       "      <td>NaN</td>\n",
       "      <td>NaN</td>\n",
       "      <td>NaN</td>\n",
       "      <td>NaN</td>\n",
       "      <td>NaN</td>\n",
       "      <td>NaN</td>\n",
       "      <td>NaN</td>\n",
       "    </tr>\n",
       "    <tr>\n",
       "      <th>max</th>\n",
       "      <td>NaN</td>\n",
       "      <td>NaN</td>\n",
       "      <td>NaN</td>\n",
       "      <td>NaN</td>\n",
       "      <td>NaN</td>\n",
       "      <td>NaN</td>\n",
       "      <td>NaN</td>\n",
       "      <td>NaN</td>\n",
       "      <td>NaN</td>\n",
       "      <td>NaN</td>\n",
       "      <td>...</td>\n",
       "      <td>NaN</td>\n",
       "      <td>NaN</td>\n",
       "      <td>NaN</td>\n",
       "      <td>NaN</td>\n",
       "      <td>NaN</td>\n",
       "      <td>NaN</td>\n",
       "      <td>NaN</td>\n",
       "      <td>NaN</td>\n",
       "      <td>NaN</td>\n",
       "      <td>NaN</td>\n",
       "    </tr>\n",
       "  </tbody>\n",
       "</table>\n",
       "<p>11 rows × 32 columns</p>\n",
       "</div>"
      ],
      "text/plain": [
       "            Time Day_of_week Age_band_of_driver Sex_of_driver  \\\n",
       "count      12316       12316              12316         12316   \n",
       "unique      1074           7                  5             3   \n",
       "top     15:30:00      Friday              18-30          Male   \n",
       "freq         120        2041               4271         11437   \n",
       "mean         NaN         NaN                NaN           NaN   \n",
       "std          NaN         NaN                NaN           NaN   \n",
       "min          NaN         NaN                NaN           NaN   \n",
       "25%          NaN         NaN                NaN           NaN   \n",
       "50%          NaN         NaN                NaN           NaN   \n",
       "75%          NaN         NaN                NaN           NaN   \n",
       "max          NaN         NaN                NaN           NaN   \n",
       "\n",
       "         Educational_level Vehicle_driver_relation Driving_experience  \\\n",
       "count                11575                   11737              11487   \n",
       "unique                   7                       4                  7   \n",
       "top     Junior high school                Employee             5-10yr   \n",
       "freq                  7619                    9627               3363   \n",
       "mean                   NaN                     NaN                NaN   \n",
       "std                    NaN                     NaN                NaN   \n",
       "min                    NaN                     NaN                NaN   \n",
       "25%                    NaN                     NaN                NaN   \n",
       "50%                    NaN                     NaN                NaN   \n",
       "75%                    NaN                     NaN                NaN   \n",
       "max                    NaN                     NaN                NaN   \n",
       "\n",
       "       Type_of_vehicle Owner_of_vehicle Service_year_of_vehicle  ...  \\\n",
       "count            11366            11834                    8388  ...   \n",
       "unique              17                4                       6  ...   \n",
       "top         Automobile            Owner                 Unknown  ...   \n",
       "freq              3205            10459                    2883  ...   \n",
       "mean               NaN              NaN                     NaN  ...   \n",
       "std                NaN              NaN                     NaN  ...   \n",
       "min                NaN              NaN                     NaN  ...   \n",
       "25%                NaN              NaN                     NaN  ...   \n",
       "50%                NaN              NaN                     NaN  ...   \n",
       "75%                NaN              NaN                     NaN  ...   \n",
       "max                NaN              NaN                     NaN  ...   \n",
       "\n",
       "       Vehicle_movement   Casualty_class Sex_of_casualty Age_band_of_casualty  \\\n",
       "count             12008            12316           12316                12316   \n",
       "unique               13                4               3                    6   \n",
       "top      Going straight  Driver or rider            Male                   na   \n",
       "freq               8158             4944            5253                 4443   \n",
       "mean                NaN              NaN             NaN                  NaN   \n",
       "std                 NaN              NaN             NaN                  NaN   \n",
       "min                 NaN              NaN             NaN                  NaN   \n",
       "25%                 NaN              NaN             NaN                  NaN   \n",
       "50%                 NaN              NaN             NaN                  NaN   \n",
       "75%                 NaN              NaN             NaN                  NaN   \n",
       "max                 NaN              NaN             NaN                  NaN   \n",
       "\n",
       "       Casualty_severity Work_of_casuality Fitness_of_casuality  \\\n",
       "count              12316              9118                 9681   \n",
       "unique                 4                 7                    5   \n",
       "top                    3            Driver               Normal   \n",
       "freq                7076              5903                 9608   \n",
       "mean                 NaN               NaN                  NaN   \n",
       "std                  NaN               NaN                  NaN   \n",
       "min                  NaN               NaN                  NaN   \n",
       "25%                  NaN               NaN                  NaN   \n",
       "50%                  NaN               NaN                  NaN   \n",
       "75%                  NaN               NaN                  NaN   \n",
       "max                  NaN               NaN                  NaN   \n",
       "\n",
       "       Pedestrian_movement Cause_of_accident Accident_severity  \n",
       "count                12316             12316             12316  \n",
       "unique                   9                20                 3  \n",
       "top       Not a Pedestrian     No distancing     Slight Injury  \n",
       "freq                 11390              2263             10415  \n",
       "mean                   NaN               NaN               NaN  \n",
       "std                    NaN               NaN               NaN  \n",
       "min                    NaN               NaN               NaN  \n",
       "25%                    NaN               NaN               NaN  \n",
       "50%                    NaN               NaN               NaN  \n",
       "75%                    NaN               NaN               NaN  \n",
       "max                    NaN               NaN               NaN  \n",
       "\n",
       "[11 rows x 32 columns]"
      ]
     },
     "execution_count": 6,
     "metadata": {},
     "output_type": "execute_result"
    }
   ],
   "source": [
    "df1.describe(include='all')"
   ]
  },
  {
   "cell_type": "code",
   "execution_count": 7,
   "id": "de4e1bd6",
   "metadata": {
    "execution": {
     "iopub.execute_input": "2024-09-11T08:13:26.585383Z",
     "iopub.status.busy": "2024-09-11T08:13:26.584941Z",
     "iopub.status.idle": "2024-09-11T08:13:26.621866Z",
     "shell.execute_reply": "2024-09-11T08:13:26.620088Z"
    },
    "papermill": {
     "duration": 0.063823,
     "end_time": "2024-09-11T08:13:26.625253",
     "exception": false,
     "start_time": "2024-09-11T08:13:26.561430",
     "status": "completed"
    },
    "tags": []
   },
   "outputs": [
    {
     "data": {
      "text/html": [
       "<div>\n",
       "<style scoped>\n",
       "    .dataframe tbody tr th:only-of-type {\n",
       "        vertical-align: middle;\n",
       "    }\n",
       "\n",
       "    .dataframe tbody tr th {\n",
       "        vertical-align: top;\n",
       "    }\n",
       "\n",
       "    .dataframe thead th {\n",
       "        text-align: right;\n",
       "    }\n",
       "</style>\n",
       "<table border=\"1\" class=\"dataframe\">\n",
       "  <thead>\n",
       "    <tr style=\"text-align: right;\">\n",
       "      <th></th>\n",
       "      <th>Time</th>\n",
       "      <th>Day_of_week</th>\n",
       "      <th>Age_band_of_driver</th>\n",
       "      <th>Sex_of_driver</th>\n",
       "      <th>Educational_level</th>\n",
       "      <th>Vehicle_driver_relation</th>\n",
       "      <th>Driving_experience</th>\n",
       "      <th>Type_of_vehicle</th>\n",
       "      <th>Owner_of_vehicle</th>\n",
       "      <th>Service_year_of_vehicle</th>\n",
       "      <th>...</th>\n",
       "      <th>Vehicle_movement</th>\n",
       "      <th>Casualty_class</th>\n",
       "      <th>Sex_of_casualty</th>\n",
       "      <th>Age_band_of_casualty</th>\n",
       "      <th>Casualty_severity</th>\n",
       "      <th>Work_of_casuality</th>\n",
       "      <th>Fitness_of_casuality</th>\n",
       "      <th>Pedestrian_movement</th>\n",
       "      <th>Cause_of_accident</th>\n",
       "      <th>Accident_severity</th>\n",
       "    </tr>\n",
       "  </thead>\n",
       "  <tbody>\n",
       "    <tr>\n",
       "      <th>0</th>\n",
       "      <td>17:02:00</td>\n",
       "      <td>Monday</td>\n",
       "      <td>18-30</td>\n",
       "      <td>Male</td>\n",
       "      <td>Above high school</td>\n",
       "      <td>Employee</td>\n",
       "      <td>1-2yr</td>\n",
       "      <td>Automobile</td>\n",
       "      <td>Owner</td>\n",
       "      <td>Above 10yr</td>\n",
       "      <td>...</td>\n",
       "      <td>Going straight</td>\n",
       "      <td>na</td>\n",
       "      <td>na</td>\n",
       "      <td>na</td>\n",
       "      <td>na</td>\n",
       "      <td>NaN</td>\n",
       "      <td>NaN</td>\n",
       "      <td>Not a Pedestrian</td>\n",
       "      <td>Moving Backward</td>\n",
       "      <td>Slight Injury</td>\n",
       "    </tr>\n",
       "    <tr>\n",
       "      <th>1</th>\n",
       "      <td>17:02:00</td>\n",
       "      <td>Monday</td>\n",
       "      <td>31-50</td>\n",
       "      <td>Male</td>\n",
       "      <td>Junior high school</td>\n",
       "      <td>Employee</td>\n",
       "      <td>Above 10yr</td>\n",
       "      <td>Public (&gt; 45 seats)</td>\n",
       "      <td>Owner</td>\n",
       "      <td>5-10yrs</td>\n",
       "      <td>...</td>\n",
       "      <td>Going straight</td>\n",
       "      <td>na</td>\n",
       "      <td>na</td>\n",
       "      <td>na</td>\n",
       "      <td>na</td>\n",
       "      <td>NaN</td>\n",
       "      <td>NaN</td>\n",
       "      <td>Not a Pedestrian</td>\n",
       "      <td>Overtaking</td>\n",
       "      <td>Slight Injury</td>\n",
       "    </tr>\n",
       "    <tr>\n",
       "      <th>2</th>\n",
       "      <td>17:02:00</td>\n",
       "      <td>Monday</td>\n",
       "      <td>18-30</td>\n",
       "      <td>Male</td>\n",
       "      <td>Junior high school</td>\n",
       "      <td>Employee</td>\n",
       "      <td>1-2yr</td>\n",
       "      <td>Lorry (41?100Q)</td>\n",
       "      <td>Owner</td>\n",
       "      <td>NaN</td>\n",
       "      <td>...</td>\n",
       "      <td>Going straight</td>\n",
       "      <td>Driver or rider</td>\n",
       "      <td>Male</td>\n",
       "      <td>31-50</td>\n",
       "      <td>3</td>\n",
       "      <td>Driver</td>\n",
       "      <td>NaN</td>\n",
       "      <td>Not a Pedestrian</td>\n",
       "      <td>Changing lane to the left</td>\n",
       "      <td>Serious Injury</td>\n",
       "    </tr>\n",
       "    <tr>\n",
       "      <th>3</th>\n",
       "      <td>1:06:00</td>\n",
       "      <td>Sunday</td>\n",
       "      <td>18-30</td>\n",
       "      <td>Male</td>\n",
       "      <td>Junior high school</td>\n",
       "      <td>Employee</td>\n",
       "      <td>5-10yr</td>\n",
       "      <td>Public (&gt; 45 seats)</td>\n",
       "      <td>Governmental</td>\n",
       "      <td>NaN</td>\n",
       "      <td>...</td>\n",
       "      <td>Going straight</td>\n",
       "      <td>Pedestrian</td>\n",
       "      <td>Female</td>\n",
       "      <td>18-30</td>\n",
       "      <td>3</td>\n",
       "      <td>Driver</td>\n",
       "      <td>Normal</td>\n",
       "      <td>Not a Pedestrian</td>\n",
       "      <td>Changing lane to the right</td>\n",
       "      <td>Slight Injury</td>\n",
       "    </tr>\n",
       "    <tr>\n",
       "      <th>4</th>\n",
       "      <td>1:06:00</td>\n",
       "      <td>Sunday</td>\n",
       "      <td>18-30</td>\n",
       "      <td>Male</td>\n",
       "      <td>Junior high school</td>\n",
       "      <td>Employee</td>\n",
       "      <td>2-5yr</td>\n",
       "      <td>NaN</td>\n",
       "      <td>Owner</td>\n",
       "      <td>5-10yrs</td>\n",
       "      <td>...</td>\n",
       "      <td>Going straight</td>\n",
       "      <td>na</td>\n",
       "      <td>na</td>\n",
       "      <td>na</td>\n",
       "      <td>na</td>\n",
       "      <td>NaN</td>\n",
       "      <td>NaN</td>\n",
       "      <td>Not a Pedestrian</td>\n",
       "      <td>Overtaking</td>\n",
       "      <td>Slight Injury</td>\n",
       "    </tr>\n",
       "  </tbody>\n",
       "</table>\n",
       "<p>5 rows × 32 columns</p>\n",
       "</div>"
      ],
      "text/plain": [
       "       Time Day_of_week Age_band_of_driver Sex_of_driver   Educational_level  \\\n",
       "0  17:02:00      Monday              18-30          Male   Above high school   \n",
       "1  17:02:00      Monday              31-50          Male  Junior high school   \n",
       "2  17:02:00      Monday              18-30          Male  Junior high school   \n",
       "3   1:06:00      Sunday              18-30          Male  Junior high school   \n",
       "4   1:06:00      Sunday              18-30          Male  Junior high school   \n",
       "\n",
       "  Vehicle_driver_relation Driving_experience      Type_of_vehicle  \\\n",
       "0                Employee              1-2yr           Automobile   \n",
       "1                Employee         Above 10yr  Public (> 45 seats)   \n",
       "2                Employee              1-2yr      Lorry (41?100Q)   \n",
       "3                Employee             5-10yr  Public (> 45 seats)   \n",
       "4                Employee              2-5yr                  NaN   \n",
       "\n",
       "  Owner_of_vehicle Service_year_of_vehicle  ... Vehicle_movement  \\\n",
       "0            Owner              Above 10yr  ...   Going straight   \n",
       "1            Owner                 5-10yrs  ...   Going straight   \n",
       "2            Owner                     NaN  ...   Going straight   \n",
       "3     Governmental                     NaN  ...   Going straight   \n",
       "4            Owner                 5-10yrs  ...   Going straight   \n",
       "\n",
       "    Casualty_class Sex_of_casualty Age_band_of_casualty Casualty_severity  \\\n",
       "0               na              na                   na                na   \n",
       "1               na              na                   na                na   \n",
       "2  Driver or rider            Male                31-50                 3   \n",
       "3       Pedestrian          Female                18-30                 3   \n",
       "4               na              na                   na                na   \n",
       "\n",
       "  Work_of_casuality Fitness_of_casuality Pedestrian_movement  \\\n",
       "0               NaN                  NaN    Not a Pedestrian   \n",
       "1               NaN                  NaN    Not a Pedestrian   \n",
       "2            Driver                  NaN    Not a Pedestrian   \n",
       "3            Driver               Normal    Not a Pedestrian   \n",
       "4               NaN                  NaN    Not a Pedestrian   \n",
       "\n",
       "            Cause_of_accident Accident_severity  \n",
       "0             Moving Backward     Slight Injury  \n",
       "1                  Overtaking     Slight Injury  \n",
       "2   Changing lane to the left    Serious Injury  \n",
       "3  Changing lane to the right     Slight Injury  \n",
       "4                  Overtaking     Slight Injury  \n",
       "\n",
       "[5 rows x 32 columns]"
      ]
     },
     "execution_count": 7,
     "metadata": {},
     "output_type": "execute_result"
    }
   ],
   "source": [
    "df1.head()"
   ]
  },
  {
   "cell_type": "code",
   "execution_count": 8,
   "id": "da4ebffd",
   "metadata": {
    "execution": {
     "iopub.execute_input": "2024-09-11T08:13:26.673090Z",
     "iopub.status.busy": "2024-09-11T08:13:26.672511Z",
     "iopub.status.idle": "2024-09-11T08:13:26.707124Z",
     "shell.execute_reply": "2024-09-11T08:13:26.705922Z"
    },
    "papermill": {
     "duration": 0.06155,
     "end_time": "2024-09-11T08:13:26.710993",
     "exception": false,
     "start_time": "2024-09-11T08:13:26.649443",
     "status": "completed"
    },
    "tags": []
   },
   "outputs": [
    {
     "data": {
      "text/html": [
       "<div>\n",
       "<style scoped>\n",
       "    .dataframe tbody tr th:only-of-type {\n",
       "        vertical-align: middle;\n",
       "    }\n",
       "\n",
       "    .dataframe tbody tr th {\n",
       "        vertical-align: top;\n",
       "    }\n",
       "\n",
       "    .dataframe thead th {\n",
       "        text-align: right;\n",
       "    }\n",
       "</style>\n",
       "<table border=\"1\" class=\"dataframe\">\n",
       "  <thead>\n",
       "    <tr style=\"text-align: right;\">\n",
       "      <th></th>\n",
       "      <th>Time</th>\n",
       "      <th>Day_of_week</th>\n",
       "      <th>Age_band_of_driver</th>\n",
       "      <th>Sex_of_driver</th>\n",
       "      <th>Educational_level</th>\n",
       "      <th>Vehicle_driver_relation</th>\n",
       "      <th>Driving_experience</th>\n",
       "      <th>Type_of_vehicle</th>\n",
       "      <th>Owner_of_vehicle</th>\n",
       "      <th>Service_year_of_vehicle</th>\n",
       "      <th>...</th>\n",
       "      <th>Vehicle_movement</th>\n",
       "      <th>Casualty_class</th>\n",
       "      <th>Sex_of_casualty</th>\n",
       "      <th>Age_band_of_casualty</th>\n",
       "      <th>Casualty_severity</th>\n",
       "      <th>Work_of_casuality</th>\n",
       "      <th>Fitness_of_casuality</th>\n",
       "      <th>Pedestrian_movement</th>\n",
       "      <th>Cause_of_accident</th>\n",
       "      <th>Accident_severity</th>\n",
       "    </tr>\n",
       "  </thead>\n",
       "  <tbody>\n",
       "    <tr>\n",
       "      <th>12311</th>\n",
       "      <td>16:15:00</td>\n",
       "      <td>Wednesday</td>\n",
       "      <td>31-50</td>\n",
       "      <td>Male</td>\n",
       "      <td>NaN</td>\n",
       "      <td>Employee</td>\n",
       "      <td>2-5yr</td>\n",
       "      <td>Lorry (11?40Q)</td>\n",
       "      <td>Owner</td>\n",
       "      <td>NaN</td>\n",
       "      <td>...</td>\n",
       "      <td>Going straight</td>\n",
       "      <td>na</td>\n",
       "      <td>na</td>\n",
       "      <td>na</td>\n",
       "      <td>na</td>\n",
       "      <td>Driver</td>\n",
       "      <td>Normal</td>\n",
       "      <td>Not a Pedestrian</td>\n",
       "      <td>No distancing</td>\n",
       "      <td>Slight Injury</td>\n",
       "    </tr>\n",
       "    <tr>\n",
       "      <th>12312</th>\n",
       "      <td>18:00:00</td>\n",
       "      <td>Sunday</td>\n",
       "      <td>Unknown</td>\n",
       "      <td>Male</td>\n",
       "      <td>Elementary school</td>\n",
       "      <td>Employee</td>\n",
       "      <td>5-10yr</td>\n",
       "      <td>Automobile</td>\n",
       "      <td>Owner</td>\n",
       "      <td>NaN</td>\n",
       "      <td>...</td>\n",
       "      <td>Other</td>\n",
       "      <td>na</td>\n",
       "      <td>na</td>\n",
       "      <td>na</td>\n",
       "      <td>na</td>\n",
       "      <td>Driver</td>\n",
       "      <td>Normal</td>\n",
       "      <td>Not a Pedestrian</td>\n",
       "      <td>No distancing</td>\n",
       "      <td>Slight Injury</td>\n",
       "    </tr>\n",
       "    <tr>\n",
       "      <th>12313</th>\n",
       "      <td>13:55:00</td>\n",
       "      <td>Sunday</td>\n",
       "      <td>Over 51</td>\n",
       "      <td>Male</td>\n",
       "      <td>Junior high school</td>\n",
       "      <td>Employee</td>\n",
       "      <td>5-10yr</td>\n",
       "      <td>Bajaj</td>\n",
       "      <td>Owner</td>\n",
       "      <td>2-5yrs</td>\n",
       "      <td>...</td>\n",
       "      <td>Other</td>\n",
       "      <td>Driver or rider</td>\n",
       "      <td>Male</td>\n",
       "      <td>31-50</td>\n",
       "      <td>3</td>\n",
       "      <td>Driver</td>\n",
       "      <td>Normal</td>\n",
       "      <td>Not a Pedestrian</td>\n",
       "      <td>Changing lane to the right</td>\n",
       "      <td>Serious Injury</td>\n",
       "    </tr>\n",
       "    <tr>\n",
       "      <th>12314</th>\n",
       "      <td>13:55:00</td>\n",
       "      <td>Sunday</td>\n",
       "      <td>18-30</td>\n",
       "      <td>Female</td>\n",
       "      <td>Junior high school</td>\n",
       "      <td>Employee</td>\n",
       "      <td>Above 10yr</td>\n",
       "      <td>Lorry (41?100Q)</td>\n",
       "      <td>Owner</td>\n",
       "      <td>2-5yrs</td>\n",
       "      <td>...</td>\n",
       "      <td>Other</td>\n",
       "      <td>na</td>\n",
       "      <td>na</td>\n",
       "      <td>na</td>\n",
       "      <td>na</td>\n",
       "      <td>Driver</td>\n",
       "      <td>Normal</td>\n",
       "      <td>Not a Pedestrian</td>\n",
       "      <td>Driving under the influence of drugs</td>\n",
       "      <td>Slight Injury</td>\n",
       "    </tr>\n",
       "    <tr>\n",
       "      <th>12315</th>\n",
       "      <td>13:55:00</td>\n",
       "      <td>Sunday</td>\n",
       "      <td>18-30</td>\n",
       "      <td>Male</td>\n",
       "      <td>Junior high school</td>\n",
       "      <td>Employee</td>\n",
       "      <td>5-10yr</td>\n",
       "      <td>Other</td>\n",
       "      <td>Owner</td>\n",
       "      <td>2-5yrs</td>\n",
       "      <td>...</td>\n",
       "      <td>Stopping</td>\n",
       "      <td>Pedestrian</td>\n",
       "      <td>Female</td>\n",
       "      <td>5</td>\n",
       "      <td>3</td>\n",
       "      <td>Driver</td>\n",
       "      <td>Normal</td>\n",
       "      <td>Crossing from nearside - masked by parked or s...</td>\n",
       "      <td>Changing lane to the right</td>\n",
       "      <td>Slight Injury</td>\n",
       "    </tr>\n",
       "  </tbody>\n",
       "</table>\n",
       "<p>5 rows × 32 columns</p>\n",
       "</div>"
      ],
      "text/plain": [
       "           Time Day_of_week Age_band_of_driver Sex_of_driver  \\\n",
       "12311  16:15:00   Wednesday              31-50          Male   \n",
       "12312  18:00:00      Sunday            Unknown          Male   \n",
       "12313  13:55:00      Sunday            Over 51          Male   \n",
       "12314  13:55:00      Sunday              18-30        Female   \n",
       "12315  13:55:00      Sunday              18-30          Male   \n",
       "\n",
       "        Educational_level Vehicle_driver_relation Driving_experience  \\\n",
       "12311                 NaN                Employee              2-5yr   \n",
       "12312   Elementary school                Employee             5-10yr   \n",
       "12313  Junior high school                Employee             5-10yr   \n",
       "12314  Junior high school                Employee         Above 10yr   \n",
       "12315  Junior high school                Employee             5-10yr   \n",
       "\n",
       "       Type_of_vehicle Owner_of_vehicle Service_year_of_vehicle  ...  \\\n",
       "12311   Lorry (11?40Q)            Owner                     NaN  ...   \n",
       "12312       Automobile            Owner                     NaN  ...   \n",
       "12313            Bajaj            Owner                  2-5yrs  ...   \n",
       "12314  Lorry (41?100Q)            Owner                  2-5yrs  ...   \n",
       "12315            Other            Owner                  2-5yrs  ...   \n",
       "\n",
       "      Vehicle_movement   Casualty_class Sex_of_casualty Age_band_of_casualty  \\\n",
       "12311   Going straight               na              na                   na   \n",
       "12312            Other               na              na                   na   \n",
       "12313            Other  Driver or rider            Male                31-50   \n",
       "12314            Other               na              na                   na   \n",
       "12315         Stopping       Pedestrian          Female                    5   \n",
       "\n",
       "      Casualty_severity Work_of_casuality Fitness_of_casuality  \\\n",
       "12311                na            Driver               Normal   \n",
       "12312                na            Driver               Normal   \n",
       "12313                 3            Driver               Normal   \n",
       "12314                na            Driver               Normal   \n",
       "12315                 3            Driver               Normal   \n",
       "\n",
       "                                     Pedestrian_movement  \\\n",
       "12311                                   Not a Pedestrian   \n",
       "12312                                   Not a Pedestrian   \n",
       "12313                                   Not a Pedestrian   \n",
       "12314                                   Not a Pedestrian   \n",
       "12315  Crossing from nearside - masked by parked or s...   \n",
       "\n",
       "                          Cause_of_accident Accident_severity  \n",
       "12311                         No distancing     Slight Injury  \n",
       "12312                         No distancing     Slight Injury  \n",
       "12313            Changing lane to the right    Serious Injury  \n",
       "12314  Driving under the influence of drugs     Slight Injury  \n",
       "12315            Changing lane to the right     Slight Injury  \n",
       "\n",
       "[5 rows x 32 columns]"
      ]
     },
     "execution_count": 8,
     "metadata": {},
     "output_type": "execute_result"
    }
   ],
   "source": [
    "df1.tail()"
   ]
  },
  {
   "cell_type": "code",
   "execution_count": 9,
   "id": "83faff9b",
   "metadata": {
    "execution": {
     "iopub.execute_input": "2024-09-11T08:13:26.765135Z",
     "iopub.status.busy": "2024-09-11T08:13:26.764649Z",
     "iopub.status.idle": "2024-09-11T08:13:26.828211Z",
     "shell.execute_reply": "2024-09-11T08:13:26.825856Z"
    },
    "papermill": {
     "duration": 0.091944,
     "end_time": "2024-09-11T08:13:26.830997",
     "exception": false,
     "start_time": "2024-09-11T08:13:26.739053",
     "status": "completed"
    },
    "tags": []
   },
   "outputs": [
    {
     "name": "stdout",
     "output_type": "stream",
     "text": [
      "<class 'pandas.core.frame.DataFrame'>\n",
      "RangeIndex: 12316 entries, 0 to 12315\n",
      "Data columns (total 32 columns):\n",
      " #   Column                       Non-Null Count  Dtype \n",
      "---  ------                       --------------  ----- \n",
      " 0   Time                         12316 non-null  object\n",
      " 1   Day_of_week                  12316 non-null  object\n",
      " 2   Age_band_of_driver           12316 non-null  object\n",
      " 3   Sex_of_driver                12316 non-null  object\n",
      " 4   Educational_level            11575 non-null  object\n",
      " 5   Vehicle_driver_relation      11737 non-null  object\n",
      " 6   Driving_experience           11487 non-null  object\n",
      " 7   Type_of_vehicle              11366 non-null  object\n",
      " 8   Owner_of_vehicle             11834 non-null  object\n",
      " 9   Service_year_of_vehicle      8388 non-null   object\n",
      " 10  Defect_of_vehicle            7889 non-null   object\n",
      " 11  Area_accident_occured        12077 non-null  object\n",
      " 12  Lanes_or_Medians             11931 non-null  object\n",
      " 13  Road_allignment              12174 non-null  object\n",
      " 14  Types_of_Junction            11429 non-null  object\n",
      " 15  Road_surface_type            12144 non-null  object\n",
      " 16  Road_surface_conditions      12316 non-null  object\n",
      " 17  Light_conditions             12316 non-null  object\n",
      " 18  Weather_conditions           12316 non-null  object\n",
      " 19  Type_of_collision            12161 non-null  object\n",
      " 20  Number_of_vehicles_involved  12316 non-null  int64 \n",
      " 21  Number_of_casualties         12316 non-null  int64 \n",
      " 22  Vehicle_movement             12008 non-null  object\n",
      " 23  Casualty_class               12316 non-null  object\n",
      " 24  Sex_of_casualty              12316 non-null  object\n",
      " 25  Age_band_of_casualty         12316 non-null  object\n",
      " 26  Casualty_severity            12316 non-null  object\n",
      " 27  Work_of_casuality            9118 non-null   object\n",
      " 28  Fitness_of_casuality         9681 non-null   object\n",
      " 29  Pedestrian_movement          12316 non-null  object\n",
      " 30  Cause_of_accident            12316 non-null  object\n",
      " 31  Accident_severity            12316 non-null  object\n",
      "dtypes: int64(2), object(30)\n",
      "memory usage: 3.0+ MB\n"
     ]
    }
   ],
   "source": [
    "df1.info()"
   ]
  },
  {
   "cell_type": "markdown",
   "id": "a6a855a6",
   "metadata": {
    "papermill": {
     "duration": 0.022757,
     "end_time": "2024-09-11T08:13:26.876045",
     "exception": false,
     "start_time": "2024-09-11T08:13:26.853288",
     "status": "completed"
    },
    "tags": []
   },
   "source": [
    "# Data cleaning"
   ]
  },
  {
   "cell_type": "code",
   "execution_count": 10,
   "id": "2b64c2b1",
   "metadata": {
    "execution": {
     "iopub.execute_input": "2024-09-11T08:13:26.923559Z",
     "iopub.status.busy": "2024-09-11T08:13:26.923049Z",
     "iopub.status.idle": "2024-09-11T08:13:26.933627Z",
     "shell.execute_reply": "2024-09-11T08:13:26.932064Z"
    },
    "papermill": {
     "duration": 0.038741,
     "end_time": "2024-09-11T08:13:26.937475",
     "exception": false,
     "start_time": "2024-09-11T08:13:26.898734",
     "status": "completed"
    },
    "tags": []
   },
   "outputs": [
    {
     "data": {
      "text/plain": [
       "Index(['Time', 'Day_of_week', 'Age_band_of_driver', 'Sex_of_driver',\n",
       "       'Educational_level', 'Vehicle_driver_relation', 'Driving_experience',\n",
       "       'Type_of_vehicle', 'Owner_of_vehicle', 'Service_year_of_vehicle',\n",
       "       'Defect_of_vehicle', 'Area_accident_occured', 'Lanes_or_Medians',\n",
       "       'Road_allignment', 'Types_of_Junction', 'Road_surface_type',\n",
       "       'Road_surface_conditions', 'Light_conditions', 'Weather_conditions',\n",
       "       'Type_of_collision', 'Number_of_vehicles_involved',\n",
       "       'Number_of_casualties', 'Vehicle_movement', 'Casualty_class',\n",
       "       'Sex_of_casualty', 'Age_band_of_casualty', 'Casualty_severity',\n",
       "       'Work_of_casuality', 'Fitness_of_casuality', 'Pedestrian_movement',\n",
       "       'Cause_of_accident', 'Accident_severity'],\n",
       "      dtype='object')"
      ]
     },
     "execution_count": 10,
     "metadata": {},
     "output_type": "execute_result"
    }
   ],
   "source": [
    "df1.columns"
   ]
  },
  {
   "cell_type": "code",
   "execution_count": 11,
   "id": "9d786a67",
   "metadata": {
    "execution": {
     "iopub.execute_input": "2024-09-11T08:13:26.988733Z",
     "iopub.status.busy": "2024-09-11T08:13:26.987892Z",
     "iopub.status.idle": "2024-09-11T08:13:27.014568Z",
     "shell.execute_reply": "2024-09-11T08:13:27.013268Z"
    },
    "papermill": {
     "duration": 0.052926,
     "end_time": "2024-09-11T08:13:27.017219",
     "exception": false,
     "start_time": "2024-09-11T08:13:26.964293",
     "status": "completed"
    },
    "tags": []
   },
   "outputs": [
    {
     "data": {
      "text/html": [
       "<div>\n",
       "<style scoped>\n",
       "    .dataframe tbody tr th:only-of-type {\n",
       "        vertical-align: middle;\n",
       "    }\n",
       "\n",
       "    .dataframe tbody tr th {\n",
       "        vertical-align: top;\n",
       "    }\n",
       "\n",
       "    .dataframe thead th {\n",
       "        text-align: right;\n",
       "    }\n",
       "</style>\n",
       "<table border=\"1\" class=\"dataframe\">\n",
       "  <thead>\n",
       "    <tr style=\"text-align: right;\">\n",
       "      <th></th>\n",
       "      <th>Time</th>\n",
       "      <th>Day_of_week</th>\n",
       "      <th>Age_band_of_driver</th>\n",
       "      <th>Sex_of_driver</th>\n",
       "      <th>Type_of_vehicle</th>\n",
       "      <th>Vehicle_movement</th>\n",
       "      <th>Driving_experience</th>\n",
       "      <th>Service_year_of_vehicle</th>\n",
       "      <th>Cause_of_accident</th>\n",
       "      <th>Accident_severity</th>\n",
       "    </tr>\n",
       "  </thead>\n",
       "  <tbody>\n",
       "    <tr>\n",
       "      <th>0</th>\n",
       "      <td>17:02:00</td>\n",
       "      <td>Monday</td>\n",
       "      <td>18-30</td>\n",
       "      <td>Male</td>\n",
       "      <td>Automobile</td>\n",
       "      <td>Going straight</td>\n",
       "      <td>1-2yr</td>\n",
       "      <td>Above 10yr</td>\n",
       "      <td>Moving Backward</td>\n",
       "      <td>Slight Injury</td>\n",
       "    </tr>\n",
       "    <tr>\n",
       "      <th>1</th>\n",
       "      <td>17:02:00</td>\n",
       "      <td>Monday</td>\n",
       "      <td>31-50</td>\n",
       "      <td>Male</td>\n",
       "      <td>Public (&gt; 45 seats)</td>\n",
       "      <td>Going straight</td>\n",
       "      <td>Above 10yr</td>\n",
       "      <td>5-10yrs</td>\n",
       "      <td>Overtaking</td>\n",
       "      <td>Slight Injury</td>\n",
       "    </tr>\n",
       "    <tr>\n",
       "      <th>2</th>\n",
       "      <td>17:02:00</td>\n",
       "      <td>Monday</td>\n",
       "      <td>18-30</td>\n",
       "      <td>Male</td>\n",
       "      <td>Lorry (41?100Q)</td>\n",
       "      <td>Going straight</td>\n",
       "      <td>1-2yr</td>\n",
       "      <td>NaN</td>\n",
       "      <td>Changing lane to the left</td>\n",
       "      <td>Serious Injury</td>\n",
       "    </tr>\n",
       "    <tr>\n",
       "      <th>3</th>\n",
       "      <td>1:06:00</td>\n",
       "      <td>Sunday</td>\n",
       "      <td>18-30</td>\n",
       "      <td>Male</td>\n",
       "      <td>Public (&gt; 45 seats)</td>\n",
       "      <td>Going straight</td>\n",
       "      <td>5-10yr</td>\n",
       "      <td>NaN</td>\n",
       "      <td>Changing lane to the right</td>\n",
       "      <td>Slight Injury</td>\n",
       "    </tr>\n",
       "    <tr>\n",
       "      <th>4</th>\n",
       "      <td>1:06:00</td>\n",
       "      <td>Sunday</td>\n",
       "      <td>18-30</td>\n",
       "      <td>Male</td>\n",
       "      <td>NaN</td>\n",
       "      <td>Going straight</td>\n",
       "      <td>2-5yr</td>\n",
       "      <td>5-10yrs</td>\n",
       "      <td>Overtaking</td>\n",
       "      <td>Slight Injury</td>\n",
       "    </tr>\n",
       "    <tr>\n",
       "      <th>...</th>\n",
       "      <td>...</td>\n",
       "      <td>...</td>\n",
       "      <td>...</td>\n",
       "      <td>...</td>\n",
       "      <td>...</td>\n",
       "      <td>...</td>\n",
       "      <td>...</td>\n",
       "      <td>...</td>\n",
       "      <td>...</td>\n",
       "      <td>...</td>\n",
       "    </tr>\n",
       "    <tr>\n",
       "      <th>12311</th>\n",
       "      <td>16:15:00</td>\n",
       "      <td>Wednesday</td>\n",
       "      <td>31-50</td>\n",
       "      <td>Male</td>\n",
       "      <td>Lorry (11?40Q)</td>\n",
       "      <td>Going straight</td>\n",
       "      <td>2-5yr</td>\n",
       "      <td>NaN</td>\n",
       "      <td>No distancing</td>\n",
       "      <td>Slight Injury</td>\n",
       "    </tr>\n",
       "    <tr>\n",
       "      <th>12312</th>\n",
       "      <td>18:00:00</td>\n",
       "      <td>Sunday</td>\n",
       "      <td>Unknown</td>\n",
       "      <td>Male</td>\n",
       "      <td>Automobile</td>\n",
       "      <td>Other</td>\n",
       "      <td>5-10yr</td>\n",
       "      <td>NaN</td>\n",
       "      <td>No distancing</td>\n",
       "      <td>Slight Injury</td>\n",
       "    </tr>\n",
       "    <tr>\n",
       "      <th>12313</th>\n",
       "      <td>13:55:00</td>\n",
       "      <td>Sunday</td>\n",
       "      <td>Over 51</td>\n",
       "      <td>Male</td>\n",
       "      <td>Bajaj</td>\n",
       "      <td>Other</td>\n",
       "      <td>5-10yr</td>\n",
       "      <td>2-5yrs</td>\n",
       "      <td>Changing lane to the right</td>\n",
       "      <td>Serious Injury</td>\n",
       "    </tr>\n",
       "    <tr>\n",
       "      <th>12314</th>\n",
       "      <td>13:55:00</td>\n",
       "      <td>Sunday</td>\n",
       "      <td>18-30</td>\n",
       "      <td>Female</td>\n",
       "      <td>Lorry (41?100Q)</td>\n",
       "      <td>Other</td>\n",
       "      <td>Above 10yr</td>\n",
       "      <td>2-5yrs</td>\n",
       "      <td>Driving under the influence of drugs</td>\n",
       "      <td>Slight Injury</td>\n",
       "    </tr>\n",
       "    <tr>\n",
       "      <th>12315</th>\n",
       "      <td>13:55:00</td>\n",
       "      <td>Sunday</td>\n",
       "      <td>18-30</td>\n",
       "      <td>Male</td>\n",
       "      <td>Other</td>\n",
       "      <td>Stopping</td>\n",
       "      <td>5-10yr</td>\n",
       "      <td>2-5yrs</td>\n",
       "      <td>Changing lane to the right</td>\n",
       "      <td>Slight Injury</td>\n",
       "    </tr>\n",
       "  </tbody>\n",
       "</table>\n",
       "<p>12316 rows × 10 columns</p>\n",
       "</div>"
      ],
      "text/plain": [
       "           Time Day_of_week Age_band_of_driver Sex_of_driver  \\\n",
       "0      17:02:00      Monday              18-30          Male   \n",
       "1      17:02:00      Monday              31-50          Male   \n",
       "2      17:02:00      Monday              18-30          Male   \n",
       "3       1:06:00      Sunday              18-30          Male   \n",
       "4       1:06:00      Sunday              18-30          Male   \n",
       "...         ...         ...                ...           ...   \n",
       "12311  16:15:00   Wednesday              31-50          Male   \n",
       "12312  18:00:00      Sunday            Unknown          Male   \n",
       "12313  13:55:00      Sunday            Over 51          Male   \n",
       "12314  13:55:00      Sunday              18-30        Female   \n",
       "12315  13:55:00      Sunday              18-30          Male   \n",
       "\n",
       "           Type_of_vehicle Vehicle_movement Driving_experience  \\\n",
       "0               Automobile   Going straight              1-2yr   \n",
       "1      Public (> 45 seats)   Going straight         Above 10yr   \n",
       "2          Lorry (41?100Q)   Going straight              1-2yr   \n",
       "3      Public (> 45 seats)   Going straight             5-10yr   \n",
       "4                      NaN   Going straight              2-5yr   \n",
       "...                    ...              ...                ...   \n",
       "12311       Lorry (11?40Q)   Going straight              2-5yr   \n",
       "12312           Automobile            Other             5-10yr   \n",
       "12313                Bajaj            Other             5-10yr   \n",
       "12314      Lorry (41?100Q)            Other         Above 10yr   \n",
       "12315                Other         Stopping             5-10yr   \n",
       "\n",
       "      Service_year_of_vehicle                     Cause_of_accident  \\\n",
       "0                  Above 10yr                       Moving Backward   \n",
       "1                     5-10yrs                            Overtaking   \n",
       "2                         NaN             Changing lane to the left   \n",
       "3                         NaN            Changing lane to the right   \n",
       "4                     5-10yrs                            Overtaking   \n",
       "...                       ...                                   ...   \n",
       "12311                     NaN                         No distancing   \n",
       "12312                     NaN                         No distancing   \n",
       "12313                  2-5yrs            Changing lane to the right   \n",
       "12314                  2-5yrs  Driving under the influence of drugs   \n",
       "12315                  2-5yrs            Changing lane to the right   \n",
       "\n",
       "      Accident_severity  \n",
       "0         Slight Injury  \n",
       "1         Slight Injury  \n",
       "2        Serious Injury  \n",
       "3         Slight Injury  \n",
       "4         Slight Injury  \n",
       "...                 ...  \n",
       "12311     Slight Injury  \n",
       "12312     Slight Injury  \n",
       "12313    Serious Injury  \n",
       "12314     Slight Injury  \n",
       "12315     Slight Injury  \n",
       "\n",
       "[12316 rows x 10 columns]"
      ]
     },
     "execution_count": 11,
     "metadata": {},
     "output_type": "execute_result"
    }
   ],
   "source": [
    "main_columns = [\n",
    "    'Time',\n",
    "    'Day_of_week',\n",
    "    'Age_band_of_driver',\n",
    "    'Sex_of_driver',\n",
    "    'Type_of_vehicle',\n",
    "    'Vehicle_movement',\n",
    "    'Driving_experience',\n",
    "    'Service_year_of_vehicle',\n",
    "    'Cause_of_accident',\n",
    "    'Accident_severity'\n",
    "]\n",
    "df2=df1[main_columns]\n",
    "df2"
   ]
  },
  {
   "cell_type": "code",
   "execution_count": 12,
   "id": "61465a6d",
   "metadata": {
    "execution": {
     "iopub.execute_input": "2024-09-11T08:13:27.064818Z",
     "iopub.status.busy": "2024-09-11T08:13:27.064340Z",
     "iopub.status.idle": "2024-09-11T08:13:27.072833Z",
     "shell.execute_reply": "2024-09-11T08:13:27.071395Z"
    },
    "papermill": {
     "duration": 0.035179,
     "end_time": "2024-09-11T08:13:27.075439",
     "exception": false,
     "start_time": "2024-09-11T08:13:27.040260",
     "status": "completed"
    },
    "tags": []
   },
   "outputs": [
    {
     "data": {
      "text/plain": [
       "Index(['Time', 'Day_of_week', 'Age_band_of_driver', 'Sex_of_driver',\n",
       "       'Type_of_vehicle', 'Vehicle_movement', 'Driving_experience',\n",
       "       'Service_year_of_vehicle', 'Cause_of_accident', 'Accident_severity'],\n",
       "      dtype='object')"
      ]
     },
     "execution_count": 12,
     "metadata": {},
     "output_type": "execute_result"
    }
   ],
   "source": [
    "df2.columns"
   ]
  },
  {
   "cell_type": "code",
   "execution_count": 13,
   "id": "d52e2fe0",
   "metadata": {
    "execution": {
     "iopub.execute_input": "2024-09-11T08:13:27.123941Z",
     "iopub.status.busy": "2024-09-11T08:13:27.123369Z",
     "iopub.status.idle": "2024-09-11T08:13:27.152194Z",
     "shell.execute_reply": "2024-09-11T08:13:27.151045Z"
    },
    "papermill": {
     "duration": 0.056232,
     "end_time": "2024-09-11T08:13:27.154876",
     "exception": false,
     "start_time": "2024-09-11T08:13:27.098644",
     "status": "completed"
    },
    "tags": []
   },
   "outputs": [
    {
     "data": {
      "text/plain": [
       "Time                          0\n",
       "Day_of_week                   0\n",
       "Age_band_of_driver            0\n",
       "Sex_of_driver                 0\n",
       "Type_of_vehicle             950\n",
       "Vehicle_movement            308\n",
       "Driving_experience          829\n",
       "Service_year_of_vehicle    3928\n",
       "Cause_of_accident             0\n",
       "Accident_severity             0\n",
       "dtype: int64"
      ]
     },
     "execution_count": 13,
     "metadata": {},
     "output_type": "execute_result"
    }
   ],
   "source": [
    "df2.isnull().sum()"
   ]
  },
  {
   "cell_type": "code",
   "execution_count": 14,
   "id": "c4ca78bf",
   "metadata": {
    "execution": {
     "iopub.execute_input": "2024-09-11T08:13:27.203981Z",
     "iopub.status.busy": "2024-09-11T08:13:27.203390Z",
     "iopub.status.idle": "2024-09-11T08:13:27.219085Z",
     "shell.execute_reply": "2024-09-11T08:13:27.217512Z"
    },
    "papermill": {
     "duration": 0.043481,
     "end_time": "2024-09-11T08:13:27.221987",
     "exception": false,
     "start_time": "2024-09-11T08:13:27.178506",
     "status": "completed"
    },
    "tags": []
   },
   "outputs": [
    {
     "name": "stderr",
     "output_type": "stream",
     "text": [
      "/tmp/ipykernel_17/3089383030.py:1: SettingWithCopyWarning: \n",
      "A value is trying to be set on a copy of a slice from a DataFrame.\n",
      "Try using .loc[row_indexer,col_indexer] = value instead\n",
      "\n",
      "See the caveats in the documentation: https://pandas.pydata.org/pandas-docs/stable/user_guide/indexing.html#returning-a-view-versus-a-copy\n",
      "  df2['Type_of_vehicle']=df2['Type_of_vehicle'].fillna('unknown')\n"
     ]
    },
    {
     "data": {
      "text/plain": [
       "0                 Automobile\n",
       "1        Public (> 45 seats)\n",
       "2            Lorry (41?100Q)\n",
       "3        Public (> 45 seats)\n",
       "4                    unknown\n",
       "                ...         \n",
       "12311         Lorry (11?40Q)\n",
       "12312             Automobile\n",
       "12313                  Bajaj\n",
       "12314        Lorry (41?100Q)\n",
       "12315                  Other\n",
       "Name: Type_of_vehicle, Length: 12316, dtype: object"
      ]
     },
     "execution_count": 14,
     "metadata": {},
     "output_type": "execute_result"
    }
   ],
   "source": [
    "df2['Type_of_vehicle']=df2['Type_of_vehicle'].fillna('unknown')\n",
    "df2['Type_of_vehicle']"
   ]
  },
  {
   "cell_type": "code",
   "execution_count": 15,
   "id": "c3dedada",
   "metadata": {
    "execution": {
     "iopub.execute_input": "2024-09-11T08:13:27.270334Z",
     "iopub.status.busy": "2024-09-11T08:13:27.269901Z",
     "iopub.status.idle": "2024-09-11T08:13:27.286191Z",
     "shell.execute_reply": "2024-09-11T08:13:27.285091Z"
    },
    "papermill": {
     "duration": 0.044488,
     "end_time": "2024-09-11T08:13:27.289855",
     "exception": false,
     "start_time": "2024-09-11T08:13:27.245367",
     "status": "completed"
    },
    "tags": []
   },
   "outputs": [
    {
     "name": "stderr",
     "output_type": "stream",
     "text": [
      "/tmp/ipykernel_17/22075681.py:1: SettingWithCopyWarning: \n",
      "A value is trying to be set on a copy of a slice from a DataFrame.\n",
      "Try using .loc[row_indexer,col_indexer] = value instead\n",
      "\n",
      "See the caveats in the documentation: https://pandas.pydata.org/pandas-docs/stable/user_guide/indexing.html#returning-a-view-versus-a-copy\n",
      "  df2['Type_of_vehicle'] = df2['Type_of_vehicle'].replace('Public (> 45 seats)','Public')\n",
      "/tmp/ipykernel_17/22075681.py:2: SettingWithCopyWarning: \n",
      "A value is trying to be set on a copy of a slice from a DataFrame.\n",
      "Try using .loc[row_indexer,col_indexer] = value instead\n",
      "\n",
      "See the caveats in the documentation: https://pandas.pydata.org/pandas-docs/stable/user_guide/indexing.html#returning-a-view-versus-a-copy\n",
      "  df2['Type_of_vehicle'] = df2['Type_of_vehicle'].replace('Lorry (41?100Q)','Lorry')\n",
      "/tmp/ipykernel_17/22075681.py:3: SettingWithCopyWarning: \n",
      "A value is trying to be set on a copy of a slice from a DataFrame.\n",
      "Try using .loc[row_indexer,col_indexer] = value instead\n",
      "\n",
      "See the caveats in the documentation: https://pandas.pydata.org/pandas-docs/stable/user_guide/indexing.html#returning-a-view-versus-a-copy\n",
      "  df2['Type_of_vehicle'] = df2['Type_of_vehicle'].replace('Lorry (11?40Q)','Lorry')\n"
     ]
    }
   ],
   "source": [
    "df2['Type_of_vehicle'] = df2['Type_of_vehicle'].replace('Public (> 45 seats)','Public')\n",
    "df2['Type_of_vehicle'] = df2['Type_of_vehicle'].replace('Lorry (41?100Q)','Lorry')\n",
    "df2['Type_of_vehicle'] = df2['Type_of_vehicle'].replace('Lorry (11?40Q)','Lorry')"
   ]
  },
  {
   "cell_type": "code",
   "execution_count": 16,
   "id": "255acda3",
   "metadata": {
    "execution": {
     "iopub.execute_input": "2024-09-11T08:13:27.343625Z",
     "iopub.status.busy": "2024-09-11T08:13:27.342740Z",
     "iopub.status.idle": "2024-09-11T08:13:27.351944Z",
     "shell.execute_reply": "2024-09-11T08:13:27.350869Z"
    },
    "papermill": {
     "duration": 0.036727,
     "end_time": "2024-09-11T08:13:27.354810",
     "exception": false,
     "start_time": "2024-09-11T08:13:27.318083",
     "status": "completed"
    },
    "tags": []
   },
   "outputs": [
    {
     "name": "stderr",
     "output_type": "stream",
     "text": [
      "/tmp/ipykernel_17/994509053.py:2: SettingWithCopyWarning: \n",
      "A value is trying to be set on a copy of a slice from a DataFrame.\n",
      "Try using .loc[row_indexer,col_indexer] = value instead\n",
      "\n",
      "See the caveats in the documentation: https://pandas.pydata.org/pandas-docs/stable/user_guide/indexing.html#returning-a-view-versus-a-copy\n",
      "  df2['Vehicle_movement'] = df2['Vehicle_movement'].fillna('df_mode')\n"
     ]
    }
   ],
   "source": [
    "df_mode = df2['Vehicle_movement'].mode\n",
    "df2['Vehicle_movement'] = df2['Vehicle_movement'].fillna('df_mode')"
   ]
  },
  {
   "cell_type": "code",
   "execution_count": 17,
   "id": "1bd53353",
   "metadata": {
    "execution": {
     "iopub.execute_input": "2024-09-11T08:13:27.409122Z",
     "iopub.status.busy": "2024-09-11T08:13:27.408006Z",
     "iopub.status.idle": "2024-09-11T08:13:27.418535Z",
     "shell.execute_reply": "2024-09-11T08:13:27.416859Z"
    },
    "papermill": {
     "duration": 0.038371,
     "end_time": "2024-09-11T08:13:27.421414",
     "exception": false,
     "start_time": "2024-09-11T08:13:27.383043",
     "status": "completed"
    },
    "tags": []
   },
   "outputs": [
    {
     "name": "stderr",
     "output_type": "stream",
     "text": [
      "/tmp/ipykernel_17/3726517154.py:1: SettingWithCopyWarning: \n",
      "A value is trying to be set on a copy of a slice from a DataFrame.\n",
      "Try using .loc[row_indexer,col_indexer] = value instead\n",
      "\n",
      "See the caveats in the documentation: https://pandas.pydata.org/pandas-docs/stable/user_guide/indexing.html#returning-a-view-versus-a-copy\n",
      "  df2['Driving_experience'] =df2['Driving_experience'].replace('Above 10yr','10-15yr')\n"
     ]
    }
   ],
   "source": [
    "df2['Driving_experience'] =df2['Driving_experience'].replace('Above 10yr','10-15yr')"
   ]
  },
  {
   "cell_type": "code",
   "execution_count": 18,
   "id": "ff97a0b4",
   "metadata": {
    "execution": {
     "iopub.execute_input": "2024-09-11T08:13:27.475680Z",
     "iopub.status.busy": "2024-09-11T08:13:27.475234Z",
     "iopub.status.idle": "2024-09-11T08:13:27.484577Z",
     "shell.execute_reply": "2024-09-11T08:13:27.483356Z"
    },
    "papermill": {
     "duration": 0.037497,
     "end_time": "2024-09-11T08:13:27.487470",
     "exception": false,
     "start_time": "2024-09-11T08:13:27.449973",
     "status": "completed"
    },
    "tags": []
   },
   "outputs": [
    {
     "name": "stderr",
     "output_type": "stream",
     "text": [
      "/tmp/ipykernel_17/358386142.py:2: SettingWithCopyWarning: \n",
      "A value is trying to be set on a copy of a slice from a DataFrame.\n",
      "Try using .loc[row_indexer,col_indexer] = value instead\n",
      "\n",
      "See the caveats in the documentation: https://pandas.pydata.org/pandas-docs/stable/user_guide/indexing.html#returning-a-view-versus-a-copy\n",
      "  df2['Driving_experience']=df2['Driving_experience'].fillna('Driving_experience_mode')\n"
     ]
    }
   ],
   "source": [
    "Driving_experience_mode = df2['Driving_experience'].mode\n",
    "df2['Driving_experience']=df2['Driving_experience'].fillna('Driving_experience_mode')"
   ]
  },
  {
   "cell_type": "code",
   "execution_count": 19,
   "id": "d1005899",
   "metadata": {
    "execution": {
     "iopub.execute_input": "2024-09-11T08:13:27.541386Z",
     "iopub.status.busy": "2024-09-11T08:13:27.540951Z",
     "iopub.status.idle": "2024-09-11T08:13:27.550090Z",
     "shell.execute_reply": "2024-09-11T08:13:27.548989Z"
    },
    "papermill": {
     "duration": 0.03692,
     "end_time": "2024-09-11T08:13:27.552843",
     "exception": false,
     "start_time": "2024-09-11T08:13:27.515923",
     "status": "completed"
    },
    "tags": []
   },
   "outputs": [
    {
     "name": "stderr",
     "output_type": "stream",
     "text": [
      "/tmp/ipykernel_17/3895546247.py:2: SettingWithCopyWarning: \n",
      "A value is trying to be set on a copy of a slice from a DataFrame.\n",
      "Try using .loc[row_indexer,col_indexer] = value instead\n",
      "\n",
      "See the caveats in the documentation: https://pandas.pydata.org/pandas-docs/stable/user_guide/indexing.html#returning-a-view-versus-a-copy\n",
      "  df2['Service_year_of_vehicle'] = df2['Service_year_of_vehicle'].fillna(\"Service_year_of_vehicle_mode\")\n"
     ]
    }
   ],
   "source": [
    "Service_year_of_vehicle_mode = df2['Service_year_of_vehicle'].mode\n",
    "df2['Service_year_of_vehicle'] = df2['Service_year_of_vehicle'].fillna(\"Service_year_of_vehicle_mode\")"
   ]
  },
  {
   "cell_type": "code",
   "execution_count": 20,
   "id": "1d0f6d52",
   "metadata": {
    "execution": {
     "iopub.execute_input": "2024-09-11T08:13:27.605444Z",
     "iopub.status.busy": "2024-09-11T08:13:27.604154Z",
     "iopub.status.idle": "2024-09-11T08:13:27.627942Z",
     "shell.execute_reply": "2024-09-11T08:13:27.626844Z"
    },
    "papermill": {
     "duration": 0.051546,
     "end_time": "2024-09-11T08:13:27.630822",
     "exception": false,
     "start_time": "2024-09-11T08:13:27.579276",
     "status": "completed"
    },
    "tags": []
   },
   "outputs": [
    {
     "data": {
      "text/plain": [
       "Time                       0\n",
       "Day_of_week                0\n",
       "Age_band_of_driver         0\n",
       "Sex_of_driver              0\n",
       "Type_of_vehicle            0\n",
       "Vehicle_movement           0\n",
       "Driving_experience         0\n",
       "Service_year_of_vehicle    0\n",
       "Cause_of_accident          0\n",
       "Accident_severity          0\n",
       "dtype: int64"
      ]
     },
     "execution_count": 20,
     "metadata": {},
     "output_type": "execute_result"
    }
   ],
   "source": [
    "df2.isnull().sum()"
   ]
  },
  {
   "cell_type": "code",
   "execution_count": 21,
   "id": "72706a81",
   "metadata": {
    "execution": {
     "iopub.execute_input": "2024-09-11T08:13:27.686763Z",
     "iopub.status.busy": "2024-09-11T08:13:27.685559Z",
     "iopub.status.idle": "2024-09-11T08:13:27.707728Z",
     "shell.execute_reply": "2024-09-11T08:13:27.706590Z"
    },
    "papermill": {
     "duration": 0.0499,
     "end_time": "2024-09-11T08:13:27.710128",
     "exception": false,
     "start_time": "2024-09-11T08:13:27.660228",
     "status": "completed"
    },
    "tags": []
   },
   "outputs": [
    {
     "data": {
      "text/plain": [
       "7"
      ]
     },
     "execution_count": 21,
     "metadata": {},
     "output_type": "execute_result"
    }
   ],
   "source": [
    "df2.duplicated().sum()"
   ]
  },
  {
   "cell_type": "code",
   "execution_count": 22,
   "id": "fce94a2d",
   "metadata": {
    "execution": {
     "iopub.execute_input": "2024-09-11T08:13:27.761692Z",
     "iopub.status.busy": "2024-09-11T08:13:27.761255Z",
     "iopub.status.idle": "2024-09-11T08:13:27.784121Z",
     "shell.execute_reply": "2024-09-11T08:13:27.782744Z"
    },
    "papermill": {
     "duration": 0.053483,
     "end_time": "2024-09-11T08:13:27.787211",
     "exception": false,
     "start_time": "2024-09-11T08:13:27.733728",
     "status": "completed"
    },
    "tags": []
   },
   "outputs": [],
   "source": [
    "df2 = df2.drop_duplicates()"
   ]
  },
  {
   "cell_type": "code",
   "execution_count": 23,
   "id": "2e512a9f",
   "metadata": {
    "execution": {
     "iopub.execute_input": "2024-09-11T08:13:27.839329Z",
     "iopub.status.busy": "2024-09-11T08:13:27.838384Z",
     "iopub.status.idle": "2024-09-11T08:13:27.862075Z",
     "shell.execute_reply": "2024-09-11T08:13:27.860887Z"
    },
    "papermill": {
     "duration": 0.052629,
     "end_time": "2024-09-11T08:13:27.864721",
     "exception": false,
     "start_time": "2024-09-11T08:13:27.812092",
     "status": "completed"
    },
    "tags": []
   },
   "outputs": [
    {
     "data": {
      "text/plain": [
       "0"
      ]
     },
     "execution_count": 23,
     "metadata": {},
     "output_type": "execute_result"
    }
   ],
   "source": [
    "df2.duplicated().sum()"
   ]
  },
  {
   "cell_type": "markdown",
   "id": "250f4f06",
   "metadata": {
    "papermill": {
     "duration": 0.024589,
     "end_time": "2024-09-11T08:13:27.914593",
     "exception": false,
     "start_time": "2024-09-11T08:13:27.890004",
     "status": "completed"
    },
    "tags": []
   },
   "source": [
    "# Data manuplation"
   ]
  },
  {
   "cell_type": "code",
   "execution_count": 24,
   "id": "819e3396",
   "metadata": {
    "execution": {
     "iopub.execute_input": "2024-09-11T08:13:27.969700Z",
     "iopub.status.busy": "2024-09-11T08:13:27.969134Z",
     "iopub.status.idle": "2024-09-11T08:13:27.994830Z",
     "shell.execute_reply": "2024-09-11T08:13:27.993646Z"
    },
    "papermill": {
     "duration": 0.055759,
     "end_time": "2024-09-11T08:13:27.997845",
     "exception": false,
     "start_time": "2024-09-11T08:13:27.942086",
     "status": "completed"
    },
    "tags": []
   },
   "outputs": [
    {
     "data": {
      "text/html": [
       "<div>\n",
       "<style scoped>\n",
       "    .dataframe tbody tr th:only-of-type {\n",
       "        vertical-align: middle;\n",
       "    }\n",
       "\n",
       "    .dataframe tbody tr th {\n",
       "        vertical-align: top;\n",
       "    }\n",
       "\n",
       "    .dataframe thead th {\n",
       "        text-align: right;\n",
       "    }\n",
       "</style>\n",
       "<table border=\"1\" class=\"dataframe\">\n",
       "  <thead>\n",
       "    <tr style=\"text-align: right;\">\n",
       "      <th></th>\n",
       "      <th>Time</th>\n",
       "      <th>Day_of_week</th>\n",
       "      <th>Age_band_of_driver</th>\n",
       "      <th>Sex_of_driver</th>\n",
       "      <th>Type_of_vehicle</th>\n",
       "      <th>Vehicle_movement</th>\n",
       "      <th>Driving_experience</th>\n",
       "      <th>Service_year_of_vehicle</th>\n",
       "      <th>Cause_of_accident</th>\n",
       "      <th>Accident_severity</th>\n",
       "    </tr>\n",
       "  </thead>\n",
       "  <tbody>\n",
       "    <tr>\n",
       "      <th>0</th>\n",
       "      <td>17:02:00</td>\n",
       "      <td>Monday</td>\n",
       "      <td>18-30</td>\n",
       "      <td>Male</td>\n",
       "      <td>Automobile</td>\n",
       "      <td>Going straight</td>\n",
       "      <td>1-2yr</td>\n",
       "      <td>Above 10yr</td>\n",
       "      <td>Moving Backward</td>\n",
       "      <td>Slight Injury</td>\n",
       "    </tr>\n",
       "    <tr>\n",
       "      <th>1</th>\n",
       "      <td>17:02:00</td>\n",
       "      <td>Monday</td>\n",
       "      <td>31-50</td>\n",
       "      <td>Male</td>\n",
       "      <td>Public</td>\n",
       "      <td>Going straight</td>\n",
       "      <td>10-15yr</td>\n",
       "      <td>5-10yrs</td>\n",
       "      <td>Overtaking</td>\n",
       "      <td>Slight Injury</td>\n",
       "    </tr>\n",
       "    <tr>\n",
       "      <th>2</th>\n",
       "      <td>17:02:00</td>\n",
       "      <td>Monday</td>\n",
       "      <td>18-30</td>\n",
       "      <td>Male</td>\n",
       "      <td>Lorry</td>\n",
       "      <td>Going straight</td>\n",
       "      <td>1-2yr</td>\n",
       "      <td>Service_year_of_vehicle_mode</td>\n",
       "      <td>Changing lane to the left</td>\n",
       "      <td>Serious Injury</td>\n",
       "    </tr>\n",
       "    <tr>\n",
       "      <th>3</th>\n",
       "      <td>1:06:00</td>\n",
       "      <td>Sunday</td>\n",
       "      <td>18-30</td>\n",
       "      <td>Male</td>\n",
       "      <td>Public</td>\n",
       "      <td>Going straight</td>\n",
       "      <td>5-10yr</td>\n",
       "      <td>Service_year_of_vehicle_mode</td>\n",
       "      <td>Changing lane to the right</td>\n",
       "      <td>Slight Injury</td>\n",
       "    </tr>\n",
       "    <tr>\n",
       "      <th>4</th>\n",
       "      <td>1:06:00</td>\n",
       "      <td>Sunday</td>\n",
       "      <td>18-30</td>\n",
       "      <td>Male</td>\n",
       "      <td>unknown</td>\n",
       "      <td>Going straight</td>\n",
       "      <td>2-5yr</td>\n",
       "      <td>5-10yrs</td>\n",
       "      <td>Overtaking</td>\n",
       "      <td>Slight Injury</td>\n",
       "    </tr>\n",
       "    <tr>\n",
       "      <th>...</th>\n",
       "      <td>...</td>\n",
       "      <td>...</td>\n",
       "      <td>...</td>\n",
       "      <td>...</td>\n",
       "      <td>...</td>\n",
       "      <td>...</td>\n",
       "      <td>...</td>\n",
       "      <td>...</td>\n",
       "      <td>...</td>\n",
       "      <td>...</td>\n",
       "    </tr>\n",
       "    <tr>\n",
       "      <th>12311</th>\n",
       "      <td>16:15:00</td>\n",
       "      <td>Wednesday</td>\n",
       "      <td>31-50</td>\n",
       "      <td>Male</td>\n",
       "      <td>Lorry</td>\n",
       "      <td>Going straight</td>\n",
       "      <td>2-5yr</td>\n",
       "      <td>Service_year_of_vehicle_mode</td>\n",
       "      <td>No distancing</td>\n",
       "      <td>Slight Injury</td>\n",
       "    </tr>\n",
       "    <tr>\n",
       "      <th>12312</th>\n",
       "      <td>18:00:00</td>\n",
       "      <td>Sunday</td>\n",
       "      <td>Unknown</td>\n",
       "      <td>Male</td>\n",
       "      <td>Automobile</td>\n",
       "      <td>Other</td>\n",
       "      <td>5-10yr</td>\n",
       "      <td>Service_year_of_vehicle_mode</td>\n",
       "      <td>No distancing</td>\n",
       "      <td>Slight Injury</td>\n",
       "    </tr>\n",
       "    <tr>\n",
       "      <th>12313</th>\n",
       "      <td>13:55:00</td>\n",
       "      <td>Sunday</td>\n",
       "      <td>Over 51</td>\n",
       "      <td>Male</td>\n",
       "      <td>Bajaj</td>\n",
       "      <td>Other</td>\n",
       "      <td>5-10yr</td>\n",
       "      <td>2-5yrs</td>\n",
       "      <td>Changing lane to the right</td>\n",
       "      <td>Serious Injury</td>\n",
       "    </tr>\n",
       "    <tr>\n",
       "      <th>12314</th>\n",
       "      <td>13:55:00</td>\n",
       "      <td>Sunday</td>\n",
       "      <td>18-30</td>\n",
       "      <td>Female</td>\n",
       "      <td>Lorry</td>\n",
       "      <td>Other</td>\n",
       "      <td>10-15yr</td>\n",
       "      <td>2-5yrs</td>\n",
       "      <td>Driving under the influence of drugs</td>\n",
       "      <td>Slight Injury</td>\n",
       "    </tr>\n",
       "    <tr>\n",
       "      <th>12315</th>\n",
       "      <td>13:55:00</td>\n",
       "      <td>Sunday</td>\n",
       "      <td>18-30</td>\n",
       "      <td>Male</td>\n",
       "      <td>Other</td>\n",
       "      <td>Stopping</td>\n",
       "      <td>5-10yr</td>\n",
       "      <td>2-5yrs</td>\n",
       "      <td>Changing lane to the right</td>\n",
       "      <td>Slight Injury</td>\n",
       "    </tr>\n",
       "  </tbody>\n",
       "</table>\n",
       "<p>12309 rows × 10 columns</p>\n",
       "</div>"
      ],
      "text/plain": [
       "           Time Day_of_week Age_band_of_driver Sex_of_driver Type_of_vehicle  \\\n",
       "0      17:02:00      Monday              18-30          Male      Automobile   \n",
       "1      17:02:00      Monday              31-50          Male          Public   \n",
       "2      17:02:00      Monday              18-30          Male           Lorry   \n",
       "3       1:06:00      Sunday              18-30          Male          Public   \n",
       "4       1:06:00      Sunday              18-30          Male         unknown   \n",
       "...         ...         ...                ...           ...             ...   \n",
       "12311  16:15:00   Wednesday              31-50          Male           Lorry   \n",
       "12312  18:00:00      Sunday            Unknown          Male      Automobile   \n",
       "12313  13:55:00      Sunday            Over 51          Male           Bajaj   \n",
       "12314  13:55:00      Sunday              18-30        Female           Lorry   \n",
       "12315  13:55:00      Sunday              18-30          Male           Other   \n",
       "\n",
       "      Vehicle_movement Driving_experience       Service_year_of_vehicle  \\\n",
       "0       Going straight              1-2yr                    Above 10yr   \n",
       "1       Going straight            10-15yr                       5-10yrs   \n",
       "2       Going straight              1-2yr  Service_year_of_vehicle_mode   \n",
       "3       Going straight             5-10yr  Service_year_of_vehicle_mode   \n",
       "4       Going straight              2-5yr                       5-10yrs   \n",
       "...                ...                ...                           ...   \n",
       "12311   Going straight              2-5yr  Service_year_of_vehicle_mode   \n",
       "12312            Other             5-10yr  Service_year_of_vehicle_mode   \n",
       "12313            Other             5-10yr                        2-5yrs   \n",
       "12314            Other            10-15yr                        2-5yrs   \n",
       "12315         Stopping             5-10yr                        2-5yrs   \n",
       "\n",
       "                          Cause_of_accident Accident_severity  \n",
       "0                           Moving Backward     Slight Injury  \n",
       "1                                Overtaking     Slight Injury  \n",
       "2                 Changing lane to the left    Serious Injury  \n",
       "3                Changing lane to the right     Slight Injury  \n",
       "4                                Overtaking     Slight Injury  \n",
       "...                                     ...               ...  \n",
       "12311                         No distancing     Slight Injury  \n",
       "12312                         No distancing     Slight Injury  \n",
       "12313            Changing lane to the right    Serious Injury  \n",
       "12314  Driving under the influence of drugs     Slight Injury  \n",
       "12315            Changing lane to the right     Slight Injury  \n",
       "\n",
       "[12309 rows x 10 columns]"
      ]
     },
     "execution_count": 24,
     "metadata": {},
     "output_type": "execute_result"
    }
   ],
   "source": [
    "df2"
   ]
  },
  {
   "cell_type": "code",
   "execution_count": 25,
   "id": "d7719fdc",
   "metadata": {
    "execution": {
     "iopub.execute_input": "2024-09-11T08:13:28.052189Z",
     "iopub.status.busy": "2024-09-11T08:13:28.051728Z",
     "iopub.status.idle": "2024-09-11T08:13:28.078215Z",
     "shell.execute_reply": "2024-09-11T08:13:28.076765Z"
    },
    "papermill": {
     "duration": 0.05529,
     "end_time": "2024-09-11T08:13:28.081007",
     "exception": false,
     "start_time": "2024-09-11T08:13:28.025717",
     "status": "completed"
    },
    "tags": []
   },
   "outputs": [
    {
     "name": "stdout",
     "output_type": "stream",
     "text": [
      "<class 'pandas.core.frame.DataFrame'>\n",
      "Index: 12309 entries, 0 to 12315\n",
      "Data columns (total 10 columns):\n",
      " #   Column                   Non-Null Count  Dtype \n",
      "---  ------                   --------------  ----- \n",
      " 0   Time                     12309 non-null  object\n",
      " 1   Day_of_week              12309 non-null  object\n",
      " 2   Age_band_of_driver       12309 non-null  object\n",
      " 3   Sex_of_driver            12309 non-null  object\n",
      " 4   Type_of_vehicle          12309 non-null  object\n",
      " 5   Vehicle_movement         12309 non-null  object\n",
      " 6   Driving_experience       12309 non-null  object\n",
      " 7   Service_year_of_vehicle  12309 non-null  object\n",
      " 8   Cause_of_accident        12309 non-null  object\n",
      " 9   Accident_severity        12309 non-null  object\n",
      "dtypes: object(10)\n",
      "memory usage: 1.0+ MB\n"
     ]
    }
   ],
   "source": [
    "df2.info()"
   ]
  },
  {
   "cell_type": "code",
   "execution_count": 26,
   "id": "a3427a42",
   "metadata": {
    "execution": {
     "iopub.execute_input": "2024-09-11T08:13:28.132927Z",
     "iopub.status.busy": "2024-09-11T08:13:28.132469Z",
     "iopub.status.idle": "2024-09-11T08:13:28.196703Z",
     "shell.execute_reply": "2024-09-11T08:13:28.195628Z"
    },
    "papermill": {
     "duration": 0.093768,
     "end_time": "2024-09-11T08:13:28.199536",
     "exception": false,
     "start_time": "2024-09-11T08:13:28.105768",
     "status": "completed"
    },
    "tags": []
   },
   "outputs": [
    {
     "name": "stderr",
     "output_type": "stream",
     "text": [
      "/tmp/ipykernel_17/1597635004.py:1: SettingWithCopyWarning: \n",
      "A value is trying to be set on a copy of a slice from a DataFrame.\n",
      "Try using .loc[row_indexer,col_indexer] = value instead\n",
      "\n",
      "See the caveats in the documentation: https://pandas.pydata.org/pandas-docs/stable/user_guide/indexing.html#returning-a-view-versus-a-copy\n",
      "  df2['Time'] = pd.to_datetime(df2['Time'], format='%H:%M:%S').dt.time\n",
      "/tmp/ipykernel_17/1597635004.py:2: SettingWithCopyWarning: \n",
      "A value is trying to be set on a copy of a slice from a DataFrame.\n",
      "Try using .loc[row_indexer,col_indexer] = value instead\n",
      "\n",
      "See the caveats in the documentation: https://pandas.pydata.org/pandas-docs/stable/user_guide/indexing.html#returning-a-view-versus-a-copy\n",
      "  df2['Time_HHMM'] = df2['Time'].apply(lambda x: x.strftime('%H:%M'))\n"
     ]
    }
   ],
   "source": [
    "df2['Time'] = pd.to_datetime(df2['Time'], format='%H:%M:%S').dt.time\n",
    "df2['Time_HHMM'] = df2['Time'].apply(lambda x: x.strftime('%H:%M'))"
   ]
  },
  {
   "cell_type": "code",
   "execution_count": 27,
   "id": "4abf08b6",
   "metadata": {
    "execution": {
     "iopub.execute_input": "2024-09-11T08:13:28.250968Z",
     "iopub.status.busy": "2024-09-11T08:13:28.250521Z",
     "iopub.status.idle": "2024-09-11T08:13:28.370697Z",
     "shell.execute_reply": "2024-09-11T08:13:28.369582Z"
    },
    "papermill": {
     "duration": 0.148929,
     "end_time": "2024-09-11T08:13:28.373317",
     "exception": false,
     "start_time": "2024-09-11T08:13:28.224388",
     "status": "completed"
    },
    "tags": []
   },
   "outputs": [
    {
     "name": "stderr",
     "output_type": "stream",
     "text": [
      "/tmp/ipykernel_17/3813315711.py:1: SettingWithCopyWarning: \n",
      "A value is trying to be set on a copy of a slice from a DataFrame.\n",
      "Try using .loc[row_indexer,col_indexer] = value instead\n",
      "\n",
      "See the caveats in the documentation: https://pandas.pydata.org/pandas-docs/stable/user_guide/indexing.html#returning-a-view-versus-a-copy\n",
      "  df2['Time'] = pd.to_datetime(df2['Time'], format='%H:%M:%S').dt.strftime('%H:%M')\n"
     ]
    }
   ],
   "source": [
    "df2['Time'] = pd.to_datetime(df2['Time'], format='%H:%M:%S').dt.strftime('%H:%M')"
   ]
  },
  {
   "cell_type": "code",
   "execution_count": 28,
   "id": "70272b37",
   "metadata": {
    "execution": {
     "iopub.execute_input": "2024-09-11T08:13:28.428405Z",
     "iopub.status.busy": "2024-09-11T08:13:28.426945Z",
     "iopub.status.idle": "2024-09-11T08:13:28.448963Z",
     "shell.execute_reply": "2024-09-11T08:13:28.447834Z"
    },
    "papermill": {
     "duration": 0.051823,
     "end_time": "2024-09-11T08:13:28.451767",
     "exception": false,
     "start_time": "2024-09-11T08:13:28.399944",
     "status": "completed"
    },
    "tags": []
   },
   "outputs": [
    {
     "data": {
      "text/html": [
       "<div>\n",
       "<style scoped>\n",
       "    .dataframe tbody tr th:only-of-type {\n",
       "        vertical-align: middle;\n",
       "    }\n",
       "\n",
       "    .dataframe tbody tr th {\n",
       "        vertical-align: top;\n",
       "    }\n",
       "\n",
       "    .dataframe thead th {\n",
       "        text-align: right;\n",
       "    }\n",
       "</style>\n",
       "<table border=\"1\" class=\"dataframe\">\n",
       "  <thead>\n",
       "    <tr style=\"text-align: right;\">\n",
       "      <th></th>\n",
       "      <th>Time</th>\n",
       "      <th>Day_of_week</th>\n",
       "      <th>Age_band_of_driver</th>\n",
       "      <th>Sex_of_driver</th>\n",
       "      <th>Type_of_vehicle</th>\n",
       "      <th>Vehicle_movement</th>\n",
       "      <th>Driving_experience</th>\n",
       "      <th>Service_year_of_vehicle</th>\n",
       "      <th>Cause_of_accident</th>\n",
       "      <th>Accident_severity</th>\n",
       "      <th>Time_HHMM</th>\n",
       "    </tr>\n",
       "  </thead>\n",
       "  <tbody>\n",
       "    <tr>\n",
       "      <th>0</th>\n",
       "      <td>17:02</td>\n",
       "      <td>Monday</td>\n",
       "      <td>18-30</td>\n",
       "      <td>Male</td>\n",
       "      <td>Automobile</td>\n",
       "      <td>Going straight</td>\n",
       "      <td>1-2yr</td>\n",
       "      <td>Above 10yr</td>\n",
       "      <td>Moving Backward</td>\n",
       "      <td>Slight Injury</td>\n",
       "      <td>17:02</td>\n",
       "    </tr>\n",
       "    <tr>\n",
       "      <th>1</th>\n",
       "      <td>17:02</td>\n",
       "      <td>Monday</td>\n",
       "      <td>31-50</td>\n",
       "      <td>Male</td>\n",
       "      <td>Public</td>\n",
       "      <td>Going straight</td>\n",
       "      <td>10-15yr</td>\n",
       "      <td>5-10yrs</td>\n",
       "      <td>Overtaking</td>\n",
       "      <td>Slight Injury</td>\n",
       "      <td>17:02</td>\n",
       "    </tr>\n",
       "    <tr>\n",
       "      <th>2</th>\n",
       "      <td>17:02</td>\n",
       "      <td>Monday</td>\n",
       "      <td>18-30</td>\n",
       "      <td>Male</td>\n",
       "      <td>Lorry</td>\n",
       "      <td>Going straight</td>\n",
       "      <td>1-2yr</td>\n",
       "      <td>Service_year_of_vehicle_mode</td>\n",
       "      <td>Changing lane to the left</td>\n",
       "      <td>Serious Injury</td>\n",
       "      <td>17:02</td>\n",
       "    </tr>\n",
       "    <tr>\n",
       "      <th>3</th>\n",
       "      <td>01:06</td>\n",
       "      <td>Sunday</td>\n",
       "      <td>18-30</td>\n",
       "      <td>Male</td>\n",
       "      <td>Public</td>\n",
       "      <td>Going straight</td>\n",
       "      <td>5-10yr</td>\n",
       "      <td>Service_year_of_vehicle_mode</td>\n",
       "      <td>Changing lane to the right</td>\n",
       "      <td>Slight Injury</td>\n",
       "      <td>01:06</td>\n",
       "    </tr>\n",
       "    <tr>\n",
       "      <th>4</th>\n",
       "      <td>01:06</td>\n",
       "      <td>Sunday</td>\n",
       "      <td>18-30</td>\n",
       "      <td>Male</td>\n",
       "      <td>unknown</td>\n",
       "      <td>Going straight</td>\n",
       "      <td>2-5yr</td>\n",
       "      <td>5-10yrs</td>\n",
       "      <td>Overtaking</td>\n",
       "      <td>Slight Injury</td>\n",
       "      <td>01:06</td>\n",
       "    </tr>\n",
       "    <tr>\n",
       "      <th>...</th>\n",
       "      <td>...</td>\n",
       "      <td>...</td>\n",
       "      <td>...</td>\n",
       "      <td>...</td>\n",
       "      <td>...</td>\n",
       "      <td>...</td>\n",
       "      <td>...</td>\n",
       "      <td>...</td>\n",
       "      <td>...</td>\n",
       "      <td>...</td>\n",
       "      <td>...</td>\n",
       "    </tr>\n",
       "    <tr>\n",
       "      <th>12311</th>\n",
       "      <td>16:15</td>\n",
       "      <td>Wednesday</td>\n",
       "      <td>31-50</td>\n",
       "      <td>Male</td>\n",
       "      <td>Lorry</td>\n",
       "      <td>Going straight</td>\n",
       "      <td>2-5yr</td>\n",
       "      <td>Service_year_of_vehicle_mode</td>\n",
       "      <td>No distancing</td>\n",
       "      <td>Slight Injury</td>\n",
       "      <td>16:15</td>\n",
       "    </tr>\n",
       "    <tr>\n",
       "      <th>12312</th>\n",
       "      <td>18:00</td>\n",
       "      <td>Sunday</td>\n",
       "      <td>Unknown</td>\n",
       "      <td>Male</td>\n",
       "      <td>Automobile</td>\n",
       "      <td>Other</td>\n",
       "      <td>5-10yr</td>\n",
       "      <td>Service_year_of_vehicle_mode</td>\n",
       "      <td>No distancing</td>\n",
       "      <td>Slight Injury</td>\n",
       "      <td>18:00</td>\n",
       "    </tr>\n",
       "    <tr>\n",
       "      <th>12313</th>\n",
       "      <td>13:55</td>\n",
       "      <td>Sunday</td>\n",
       "      <td>Over 51</td>\n",
       "      <td>Male</td>\n",
       "      <td>Bajaj</td>\n",
       "      <td>Other</td>\n",
       "      <td>5-10yr</td>\n",
       "      <td>2-5yrs</td>\n",
       "      <td>Changing lane to the right</td>\n",
       "      <td>Serious Injury</td>\n",
       "      <td>13:55</td>\n",
       "    </tr>\n",
       "    <tr>\n",
       "      <th>12314</th>\n",
       "      <td>13:55</td>\n",
       "      <td>Sunday</td>\n",
       "      <td>18-30</td>\n",
       "      <td>Female</td>\n",
       "      <td>Lorry</td>\n",
       "      <td>Other</td>\n",
       "      <td>10-15yr</td>\n",
       "      <td>2-5yrs</td>\n",
       "      <td>Driving under the influence of drugs</td>\n",
       "      <td>Slight Injury</td>\n",
       "      <td>13:55</td>\n",
       "    </tr>\n",
       "    <tr>\n",
       "      <th>12315</th>\n",
       "      <td>13:55</td>\n",
       "      <td>Sunday</td>\n",
       "      <td>18-30</td>\n",
       "      <td>Male</td>\n",
       "      <td>Other</td>\n",
       "      <td>Stopping</td>\n",
       "      <td>5-10yr</td>\n",
       "      <td>2-5yrs</td>\n",
       "      <td>Changing lane to the right</td>\n",
       "      <td>Slight Injury</td>\n",
       "      <td>13:55</td>\n",
       "    </tr>\n",
       "  </tbody>\n",
       "</table>\n",
       "<p>12309 rows × 11 columns</p>\n",
       "</div>"
      ],
      "text/plain": [
       "        Time Day_of_week Age_band_of_driver Sex_of_driver Type_of_vehicle  \\\n",
       "0      17:02      Monday              18-30          Male      Automobile   \n",
       "1      17:02      Monday              31-50          Male          Public   \n",
       "2      17:02      Monday              18-30          Male           Lorry   \n",
       "3      01:06      Sunday              18-30          Male          Public   \n",
       "4      01:06      Sunday              18-30          Male         unknown   \n",
       "...      ...         ...                ...           ...             ...   \n",
       "12311  16:15   Wednesday              31-50          Male           Lorry   \n",
       "12312  18:00      Sunday            Unknown          Male      Automobile   \n",
       "12313  13:55      Sunday            Over 51          Male           Bajaj   \n",
       "12314  13:55      Sunday              18-30        Female           Lorry   \n",
       "12315  13:55      Sunday              18-30          Male           Other   \n",
       "\n",
       "      Vehicle_movement Driving_experience       Service_year_of_vehicle  \\\n",
       "0       Going straight              1-2yr                    Above 10yr   \n",
       "1       Going straight            10-15yr                       5-10yrs   \n",
       "2       Going straight              1-2yr  Service_year_of_vehicle_mode   \n",
       "3       Going straight             5-10yr  Service_year_of_vehicle_mode   \n",
       "4       Going straight              2-5yr                       5-10yrs   \n",
       "...                ...                ...                           ...   \n",
       "12311   Going straight              2-5yr  Service_year_of_vehicle_mode   \n",
       "12312            Other             5-10yr  Service_year_of_vehicle_mode   \n",
       "12313            Other             5-10yr                        2-5yrs   \n",
       "12314            Other            10-15yr                        2-5yrs   \n",
       "12315         Stopping             5-10yr                        2-5yrs   \n",
       "\n",
       "                          Cause_of_accident Accident_severity Time_HHMM  \n",
       "0                           Moving Backward     Slight Injury     17:02  \n",
       "1                                Overtaking     Slight Injury     17:02  \n",
       "2                 Changing lane to the left    Serious Injury     17:02  \n",
       "3                Changing lane to the right     Slight Injury     01:06  \n",
       "4                                Overtaking     Slight Injury     01:06  \n",
       "...                                     ...               ...       ...  \n",
       "12311                         No distancing     Slight Injury     16:15  \n",
       "12312                         No distancing     Slight Injury     18:00  \n",
       "12313            Changing lane to the right    Serious Injury     13:55  \n",
       "12314  Driving under the influence of drugs     Slight Injury     13:55  \n",
       "12315            Changing lane to the right     Slight Injury     13:55  \n",
       "\n",
       "[12309 rows x 11 columns]"
      ]
     },
     "execution_count": 28,
     "metadata": {},
     "output_type": "execute_result"
    }
   ],
   "source": [
    "df2"
   ]
  },
  {
   "cell_type": "code",
   "execution_count": 29,
   "id": "031b31a7",
   "metadata": {
    "execution": {
     "iopub.execute_input": "2024-09-11T08:13:28.505391Z",
     "iopub.status.busy": "2024-09-11T08:13:28.504939Z",
     "iopub.status.idle": "2024-09-11T08:13:28.514467Z",
     "shell.execute_reply": "2024-09-11T08:13:28.513177Z"
    },
    "papermill": {
     "duration": 0.039576,
     "end_time": "2024-09-11T08:13:28.517585",
     "exception": false,
     "start_time": "2024-09-11T08:13:28.478009",
     "status": "completed"
    },
    "tags": []
   },
   "outputs": [
    {
     "name": "stderr",
     "output_type": "stream",
     "text": [
      "/tmp/ipykernel_17/2447477384.py:1: SettingWithCopyWarning: \n",
      "A value is trying to be set on a copy of a slice from a DataFrame.\n",
      "Try using .loc[row_indexer,col_indexer] = value instead\n",
      "\n",
      "See the caveats in the documentation: https://pandas.pydata.org/pandas-docs/stable/user_guide/indexing.html#returning-a-view-versus-a-copy\n",
      "  df2['Service_year_of_vehicle'] = df2['Service_year_of_vehicle'].replace('Service_year_of_vehicle_mode',\"2-5yrs\")\n"
     ]
    }
   ],
   "source": [
    "df2['Service_year_of_vehicle'] = df2['Service_year_of_vehicle'].replace('Service_year_of_vehicle_mode',\"2-5yrs\")"
   ]
  },
  {
   "cell_type": "code",
   "execution_count": 30,
   "id": "c82e42e3",
   "metadata": {
    "execution": {
     "iopub.execute_input": "2024-09-11T08:13:28.570610Z",
     "iopub.status.busy": "2024-09-11T08:13:28.570158Z",
     "iopub.status.idle": "2024-09-11T08:13:28.580349Z",
     "shell.execute_reply": "2024-09-11T08:13:28.579187Z"
    },
    "papermill": {
     "duration": 0.040366,
     "end_time": "2024-09-11T08:13:28.583258",
     "exception": false,
     "start_time": "2024-09-11T08:13:28.542892",
     "status": "completed"
    },
    "tags": []
   },
   "outputs": [
    {
     "name": "stderr",
     "output_type": "stream",
     "text": [
      "/tmp/ipykernel_17/3987304461.py:1: SettingWithCopyWarning: \n",
      "A value is trying to be set on a copy of a slice from a DataFrame.\n",
      "Try using .loc[row_indexer,col_indexer] = value instead\n",
      "\n",
      "See the caveats in the documentation: https://pandas.pydata.org/pandas-docs/stable/user_guide/indexing.html#returning-a-view-versus-a-copy\n",
      "  df2['Age_band_of_driver']=df2['Age_band_of_driver'].replace(\"Unknown\",'18-30')\n"
     ]
    }
   ],
   "source": [
    "df2['Age_band_of_driver']=df2['Age_band_of_driver'].replace(\"Unknown\",'18-30')"
   ]
  },
  {
   "cell_type": "code",
   "execution_count": 31,
   "id": "dcc887c5",
   "metadata": {
    "execution": {
     "iopub.execute_input": "2024-09-11T08:13:28.692293Z",
     "iopub.status.busy": "2024-09-11T08:13:28.691857Z",
     "iopub.status.idle": "2024-09-11T08:13:28.712215Z",
     "shell.execute_reply": "2024-09-11T08:13:28.710999Z"
    },
    "papermill": {
     "duration": 0.106022,
     "end_time": "2024-09-11T08:13:28.714698",
     "exception": false,
     "start_time": "2024-09-11T08:13:28.608676",
     "status": "completed"
    },
    "tags": []
   },
   "outputs": [
    {
     "data": {
      "text/html": [
       "<div>\n",
       "<style scoped>\n",
       "    .dataframe tbody tr th:only-of-type {\n",
       "        vertical-align: middle;\n",
       "    }\n",
       "\n",
       "    .dataframe tbody tr th {\n",
       "        vertical-align: top;\n",
       "    }\n",
       "\n",
       "    .dataframe thead th {\n",
       "        text-align: right;\n",
       "    }\n",
       "</style>\n",
       "<table border=\"1\" class=\"dataframe\">\n",
       "  <thead>\n",
       "    <tr style=\"text-align: right;\">\n",
       "      <th></th>\n",
       "      <th>Time</th>\n",
       "      <th>Day_of_week</th>\n",
       "      <th>Age_band_of_driver</th>\n",
       "      <th>Sex_of_driver</th>\n",
       "      <th>Type_of_vehicle</th>\n",
       "      <th>Vehicle_movement</th>\n",
       "      <th>Driving_experience</th>\n",
       "      <th>Service_year_of_vehicle</th>\n",
       "      <th>Cause_of_accident</th>\n",
       "      <th>Accident_severity</th>\n",
       "      <th>Time_HHMM</th>\n",
       "    </tr>\n",
       "  </thead>\n",
       "  <tbody>\n",
       "    <tr>\n",
       "      <th>0</th>\n",
       "      <td>17:02</td>\n",
       "      <td>Monday</td>\n",
       "      <td>18-30</td>\n",
       "      <td>Male</td>\n",
       "      <td>Automobile</td>\n",
       "      <td>Going straight</td>\n",
       "      <td>1-2yr</td>\n",
       "      <td>Above 10yr</td>\n",
       "      <td>Moving Backward</td>\n",
       "      <td>Slight Injury</td>\n",
       "      <td>17:02</td>\n",
       "    </tr>\n",
       "    <tr>\n",
       "      <th>1</th>\n",
       "      <td>17:02</td>\n",
       "      <td>Monday</td>\n",
       "      <td>31-50</td>\n",
       "      <td>Male</td>\n",
       "      <td>Public</td>\n",
       "      <td>Going straight</td>\n",
       "      <td>10-15yr</td>\n",
       "      <td>5-10yrs</td>\n",
       "      <td>Overtaking</td>\n",
       "      <td>Slight Injury</td>\n",
       "      <td>17:02</td>\n",
       "    </tr>\n",
       "    <tr>\n",
       "      <th>2</th>\n",
       "      <td>17:02</td>\n",
       "      <td>Monday</td>\n",
       "      <td>18-30</td>\n",
       "      <td>Male</td>\n",
       "      <td>Lorry</td>\n",
       "      <td>Going straight</td>\n",
       "      <td>1-2yr</td>\n",
       "      <td>2-5yrs</td>\n",
       "      <td>Changing lane to the left</td>\n",
       "      <td>Serious Injury</td>\n",
       "      <td>17:02</td>\n",
       "    </tr>\n",
       "    <tr>\n",
       "      <th>3</th>\n",
       "      <td>01:06</td>\n",
       "      <td>Sunday</td>\n",
       "      <td>18-30</td>\n",
       "      <td>Male</td>\n",
       "      <td>Public</td>\n",
       "      <td>Going straight</td>\n",
       "      <td>5-10yr</td>\n",
       "      <td>2-5yrs</td>\n",
       "      <td>Changing lane to the right</td>\n",
       "      <td>Slight Injury</td>\n",
       "      <td>01:06</td>\n",
       "    </tr>\n",
       "    <tr>\n",
       "      <th>4</th>\n",
       "      <td>01:06</td>\n",
       "      <td>Sunday</td>\n",
       "      <td>18-30</td>\n",
       "      <td>Male</td>\n",
       "      <td>unknown</td>\n",
       "      <td>Going straight</td>\n",
       "      <td>2-5yr</td>\n",
       "      <td>5-10yrs</td>\n",
       "      <td>Overtaking</td>\n",
       "      <td>Slight Injury</td>\n",
       "      <td>01:06</td>\n",
       "    </tr>\n",
       "    <tr>\n",
       "      <th>...</th>\n",
       "      <td>...</td>\n",
       "      <td>...</td>\n",
       "      <td>...</td>\n",
       "      <td>...</td>\n",
       "      <td>...</td>\n",
       "      <td>...</td>\n",
       "      <td>...</td>\n",
       "      <td>...</td>\n",
       "      <td>...</td>\n",
       "      <td>...</td>\n",
       "      <td>...</td>\n",
       "    </tr>\n",
       "    <tr>\n",
       "      <th>12311</th>\n",
       "      <td>16:15</td>\n",
       "      <td>Wednesday</td>\n",
       "      <td>31-50</td>\n",
       "      <td>Male</td>\n",
       "      <td>Lorry</td>\n",
       "      <td>Going straight</td>\n",
       "      <td>2-5yr</td>\n",
       "      <td>2-5yrs</td>\n",
       "      <td>No distancing</td>\n",
       "      <td>Slight Injury</td>\n",
       "      <td>16:15</td>\n",
       "    </tr>\n",
       "    <tr>\n",
       "      <th>12312</th>\n",
       "      <td>18:00</td>\n",
       "      <td>Sunday</td>\n",
       "      <td>18-30</td>\n",
       "      <td>Male</td>\n",
       "      <td>Automobile</td>\n",
       "      <td>Other</td>\n",
       "      <td>5-10yr</td>\n",
       "      <td>2-5yrs</td>\n",
       "      <td>No distancing</td>\n",
       "      <td>Slight Injury</td>\n",
       "      <td>18:00</td>\n",
       "    </tr>\n",
       "    <tr>\n",
       "      <th>12313</th>\n",
       "      <td>13:55</td>\n",
       "      <td>Sunday</td>\n",
       "      <td>Over 51</td>\n",
       "      <td>Male</td>\n",
       "      <td>Bajaj</td>\n",
       "      <td>Other</td>\n",
       "      <td>5-10yr</td>\n",
       "      <td>2-5yrs</td>\n",
       "      <td>Changing lane to the right</td>\n",
       "      <td>Serious Injury</td>\n",
       "      <td>13:55</td>\n",
       "    </tr>\n",
       "    <tr>\n",
       "      <th>12314</th>\n",
       "      <td>13:55</td>\n",
       "      <td>Sunday</td>\n",
       "      <td>18-30</td>\n",
       "      <td>Female</td>\n",
       "      <td>Lorry</td>\n",
       "      <td>Other</td>\n",
       "      <td>10-15yr</td>\n",
       "      <td>2-5yrs</td>\n",
       "      <td>Driving under the influence of drugs</td>\n",
       "      <td>Slight Injury</td>\n",
       "      <td>13:55</td>\n",
       "    </tr>\n",
       "    <tr>\n",
       "      <th>12315</th>\n",
       "      <td>13:55</td>\n",
       "      <td>Sunday</td>\n",
       "      <td>18-30</td>\n",
       "      <td>Male</td>\n",
       "      <td>Other</td>\n",
       "      <td>Stopping</td>\n",
       "      <td>5-10yr</td>\n",
       "      <td>2-5yrs</td>\n",
       "      <td>Changing lane to the right</td>\n",
       "      <td>Slight Injury</td>\n",
       "      <td>13:55</td>\n",
       "    </tr>\n",
       "  </tbody>\n",
       "</table>\n",
       "<p>12309 rows × 11 columns</p>\n",
       "</div>"
      ],
      "text/plain": [
       "        Time Day_of_week Age_band_of_driver Sex_of_driver Type_of_vehicle  \\\n",
       "0      17:02      Monday              18-30          Male      Automobile   \n",
       "1      17:02      Monday              31-50          Male          Public   \n",
       "2      17:02      Monday              18-30          Male           Lorry   \n",
       "3      01:06      Sunday              18-30          Male          Public   \n",
       "4      01:06      Sunday              18-30          Male         unknown   \n",
       "...      ...         ...                ...           ...             ...   \n",
       "12311  16:15   Wednesday              31-50          Male           Lorry   \n",
       "12312  18:00      Sunday              18-30          Male      Automobile   \n",
       "12313  13:55      Sunday            Over 51          Male           Bajaj   \n",
       "12314  13:55      Sunday              18-30        Female           Lorry   \n",
       "12315  13:55      Sunday              18-30          Male           Other   \n",
       "\n",
       "      Vehicle_movement Driving_experience Service_year_of_vehicle  \\\n",
       "0       Going straight              1-2yr              Above 10yr   \n",
       "1       Going straight            10-15yr                 5-10yrs   \n",
       "2       Going straight              1-2yr                  2-5yrs   \n",
       "3       Going straight             5-10yr                  2-5yrs   \n",
       "4       Going straight              2-5yr                 5-10yrs   \n",
       "...                ...                ...                     ...   \n",
       "12311   Going straight              2-5yr                  2-5yrs   \n",
       "12312            Other             5-10yr                  2-5yrs   \n",
       "12313            Other             5-10yr                  2-5yrs   \n",
       "12314            Other            10-15yr                  2-5yrs   \n",
       "12315         Stopping             5-10yr                  2-5yrs   \n",
       "\n",
       "                          Cause_of_accident Accident_severity Time_HHMM  \n",
       "0                           Moving Backward     Slight Injury     17:02  \n",
       "1                                Overtaking     Slight Injury     17:02  \n",
       "2                 Changing lane to the left    Serious Injury     17:02  \n",
       "3                Changing lane to the right     Slight Injury     01:06  \n",
       "4                                Overtaking     Slight Injury     01:06  \n",
       "...                                     ...               ...       ...  \n",
       "12311                         No distancing     Slight Injury     16:15  \n",
       "12312                         No distancing     Slight Injury     18:00  \n",
       "12313            Changing lane to the right    Serious Injury     13:55  \n",
       "12314  Driving under the influence of drugs     Slight Injury     13:55  \n",
       "12315            Changing lane to the right     Slight Injury     13:55  \n",
       "\n",
       "[12309 rows x 11 columns]"
      ]
     },
     "execution_count": 31,
     "metadata": {},
     "output_type": "execute_result"
    }
   ],
   "source": [
    "df2"
   ]
  },
  {
   "cell_type": "code",
   "execution_count": 32,
   "id": "d4f5996b",
   "metadata": {
    "execution": {
     "iopub.execute_input": "2024-09-11T08:13:28.772247Z",
     "iopub.status.busy": "2024-09-11T08:13:28.770953Z",
     "iopub.status.idle": "2024-09-11T08:13:28.779372Z",
     "shell.execute_reply": "2024-09-11T08:13:28.778252Z"
    },
    "papermill": {
     "duration": 0.041241,
     "end_time": "2024-09-11T08:13:28.781837",
     "exception": false,
     "start_time": "2024-09-11T08:13:28.740596",
     "status": "completed"
    },
    "tags": []
   },
   "outputs": [
    {
     "data": {
      "text/plain": [
       "Index(['Time', 'Day_of_week', 'Age_band_of_driver', 'Sex_of_driver',\n",
       "       'Type_of_vehicle', 'Vehicle_movement', 'Driving_experience',\n",
       "       'Service_year_of_vehicle', 'Cause_of_accident', 'Accident_severity',\n",
       "       'Time_HHMM'],\n",
       "      dtype='object')"
      ]
     },
     "execution_count": 32,
     "metadata": {},
     "output_type": "execute_result"
    }
   ],
   "source": [
    "df2.columns"
   ]
  },
  {
   "cell_type": "code",
   "execution_count": null,
   "id": "05ec5ef3",
   "metadata": {
    "papermill": {
     "duration": 0.02654,
     "end_time": "2024-09-11T08:13:28.834763",
     "exception": false,
     "start_time": "2024-09-11T08:13:28.808223",
     "status": "completed"
    },
    "tags": []
   },
   "outputs": [],
   "source": [
    "\n"
   ]
  },
  {
   "cell_type": "markdown",
   "id": "ff290f9d",
   "metadata": {
    "papermill": {
     "duration": 0.025747,
     "end_time": "2024-09-11T08:13:28.886916",
     "exception": false,
     "start_time": "2024-09-11T08:13:28.861169",
     "status": "completed"
    },
    "tags": []
   },
   "source": [
    "# DATA VISUALIZATION"
   ]
  },
  {
   "cell_type": "code",
   "execution_count": 33,
   "id": "4a9451d5",
   "metadata": {
    "execution": {
     "iopub.execute_input": "2024-09-11T08:13:28.942570Z",
     "iopub.status.busy": "2024-09-11T08:13:28.942113Z",
     "iopub.status.idle": "2024-09-11T08:13:30.807502Z",
     "shell.execute_reply": "2024-09-11T08:13:30.806398Z"
    },
    "papermill": {
     "duration": 1.896413,
     "end_time": "2024-09-11T08:13:30.810346",
     "exception": false,
     "start_time": "2024-09-11T08:13:28.913933",
     "status": "completed"
    },
    "tags": []
   },
   "outputs": [],
   "source": [
    "import matplotlib.pyplot as plt\n",
    "import seaborn as sns\n"
   ]
  },
  {
   "cell_type": "code",
   "execution_count": 34,
   "id": "9de08abb",
   "metadata": {
    "execution": {
     "iopub.execute_input": "2024-09-11T08:13:30.864877Z",
     "iopub.status.busy": "2024-09-11T08:13:30.864185Z",
     "iopub.status.idle": "2024-09-11T08:13:31.179284Z",
     "shell.execute_reply": "2024-09-11T08:13:31.178084Z"
    },
    "papermill": {
     "duration": 0.345598,
     "end_time": "2024-09-11T08:13:31.181951",
     "exception": false,
     "start_time": "2024-09-11T08:13:30.836353",
     "status": "completed"
    },
    "tags": []
   },
   "outputs": [
    {
     "data": {
      "image/png": "[encoded data removed]",
      "text/plain": [
       "<Figure size 1000x600 with 1 Axes>"
      ]
     },
     "metadata": {},
     "output_type": "display_data"
    }
   ],
   "source": [
    "plt.figure(figsize=(10, 6))\n",
    "sns.countplot(x='Accident_severity', data=df2)\n",
    "plt.title('Distribution of Accident Severity')\n",
    "plt.xlabel('Accident Severity')\n",
    "plt.ylabel('Count')\n",
    "plt.show()\n"
   ]
  },
  {
   "cell_type": "code",
   "execution_count": 35,
   "id": "1b7f50e8",
   "metadata": {
    "execution": {
     "iopub.execute_input": "2024-09-11T08:13:31.236760Z",
     "iopub.status.busy": "2024-09-11T08:13:31.236325Z",
     "iopub.status.idle": "2024-09-11T08:13:31.635053Z",
     "shell.execute_reply": "2024-09-11T08:13:31.633919Z"
    },
    "papermill": {
     "duration": 0.429051,
     "end_time": "2024-09-11T08:13:31.637426",
     "exception": false,
     "start_time": "2024-09-11T08:13:31.208375",
     "status": "completed"
    },
    "tags": []
   },
   "outputs": [
    {
     "data": {
      "image/png": "[encoded data removed]",
      "text/plain": [
       "<Figure size 1200x600 with 1 Axes>"
      ]
     },
     "metadata": {},
     "output_type": "display_data"
    }
   ],
   "source": [
    "plt.figure(figsize=(12, 6))\n",
    "sns.countplot(x='Day_of_week', hue='Accident_severity', data=df2)\n",
    "plt.title('Accident Severity by Day of Week')\n",
    "plt.xlabel('Day of Week')\n",
    "plt.ylabel('Count')\n",
    "plt.legend(title='Accident Severity')\n",
    "plt.show()\n"
   ]
  },
  {
   "cell_type": "code",
   "execution_count": 36,
   "id": "e2d82092",
   "metadata": {
    "execution": {
     "iopub.execute_input": "2024-09-11T08:13:31.693957Z",
     "iopub.status.busy": "2024-09-11T08:13:31.693507Z",
     "iopub.status.idle": "2024-09-11T08:13:32.101964Z",
     "shell.execute_reply": "2024-09-11T08:13:32.100752Z"
    },
    "papermill": {
     "duration": 0.439816,
     "end_time": "2024-09-11T08:13:32.104709",
     "exception": false,
     "start_time": "2024-09-11T08:13:31.664893",
     "status": "completed"
    },
    "tags": []
   },
   "outputs": [
    {
     "data": {
      "image/png": "[encoded data removed]",
      "text/plain": [
       "<Figure size 1000x600 with 1 Axes>"
      ]
     },
     "metadata": {},
     "output_type": "display_data"
    }
   ],
   "source": [
    "plt.figure(figsize=(10, 6))\n",
    "sns.countplot(x='Type_of_vehicle', data=df2)\n",
    "plt.title('Distribution of Vehicle Types')\n",
    "plt.xlabel('Type of Vehicle')\n",
    "plt.ylabel('Count')\n",
    "plt.show()\n"
   ]
  },
  {
   "cell_type": "code",
   "execution_count": 37,
   "id": "e8d0f1c5",
   "metadata": {
    "execution": {
     "iopub.execute_input": "2024-09-11T08:13:32.162471Z",
     "iopub.status.busy": "2024-09-11T08:13:32.162030Z",
     "iopub.status.idle": "2024-09-11T08:13:32.458163Z",
     "shell.execute_reply": "2024-09-11T08:13:32.456891Z"
    },
    "papermill": {
     "duration": 0.328191,
     "end_time": "2024-09-11T08:13:32.460935",
     "exception": false,
     "start_time": "2024-09-11T08:13:32.132744",
     "status": "completed"
    },
    "tags": []
   },
   "outputs": [
    {
     "data": {
      "image/png": "[encoded data removed]",
      "text/plain": [
       "<Figure size 1000x600 with 1 Axes>"
      ]
     },
     "metadata": {},
     "output_type": "display_data"
    }
   ],
   "source": [
    "plt.figure(figsize=(10, 6))\n",
    "sns.countplot(x='Age_band_of_driver', data=df2)\n",
    "plt.title('Distribution of Age Bands of Drivers')\n",
    "plt.xlabel('Age Band of Driver')\n",
    "plt.ylabel('Count')\n",
    "plt.show()\n"
   ]
  },
  {
   "cell_type": "code",
   "execution_count": 38,
   "id": "a125581d",
   "metadata": {
    "execution": {
     "iopub.execute_input": "2024-09-11T08:13:32.520299Z",
     "iopub.status.busy": "2024-09-11T08:13:32.519738Z",
     "iopub.status.idle": "2024-09-11T08:13:33.462734Z",
     "shell.execute_reply": "2024-09-11T08:13:33.461354Z"
    },
    "papermill": {
     "duration": 0.97692,
     "end_time": "2024-09-11T08:13:33.466670",
     "exception": false,
     "start_time": "2024-09-11T08:13:32.489750",
     "status": "completed"
    },
    "tags": []
   },
   "outputs": [
    {
     "data": {
      "image/png": "[encoded data removed]",
      "text/plain": [
       "<Figure size 1200x800 with 1 Axes>"
      ]
     },
     "metadata": {},
     "output_type": "display_data"
    }
   ],
   "source": [
    "plt.figure(figsize=(12, 8))\n",
    "sns.countplot(x='Vehicle_movement', hue='Driving_experience', data=df2)\n",
    "plt.title('Vehicle Movement by Driving Experience')\n",
    "plt.xlabel('Vehicle Movement')\n",
    "plt.ylabel('Count')\n",
    "plt.legend(title='Driving Experience')\n",
    "plt.xticks(rotation=45)\n",
    "plt.show()\n"
   ]
  },
  {
   "cell_type": "markdown",
   "id": "7c4de1de",
   "metadata": {
    "papermill": {
     "duration": 0.029668,
     "end_time": "2024-09-11T08:13:33.527436",
     "exception": false,
     "start_time": "2024-09-11T08:13:33.497768",
     "status": "completed"
    },
    "tags": []
   },
   "source": [
    "**Pie chart**"
   ]
  },
  {
   "cell_type": "code",
   "execution_count": 39,
   "id": "71605fb1",
   "metadata": {
    "execution": {
     "iopub.execute_input": "2024-09-11T08:13:33.589040Z",
     "iopub.status.busy": "2024-09-11T08:13:33.588579Z",
     "iopub.status.idle": "2024-09-11T08:13:33.835996Z",
     "shell.execute_reply": "2024-09-11T08:13:33.834275Z"
    },
    "papermill": {
     "duration": 0.28391,
     "end_time": "2024-09-11T08:13:33.840931",
     "exception": false,
     "start_time": "2024-09-11T08:13:33.557021",
     "status": "completed"
    },
    "tags": []
   },
   "outputs": [
    {
     "data": {
      "image/png": "[encoded data removed]",
      "text/plain": [
       "<Figure size 800x800 with 1 Axes>"
      ]
     },
     "metadata": {},
     "output_type": "display_data"
    }
   ],
   "source": [
    "# Pie chart for Accident Severity Distribution\n",
    "plt.figure(figsize=(8, 8))\n",
    "df2['Accident_severity'].value_counts().plot.pie(autopct='%1.1f%%', startangle=140, colors=sns.color_palette(\"Set2\"))\n",
    "plt.title('Accident Severity Distribution')\n",
    "plt.ylabel('')\n",
    "plt.show()\n"
   ]
  },
  {
   "cell_type": "markdown",
   "id": "39f31788",
   "metadata": {
    "papermill": {
     "duration": 0.031507,
     "end_time": "2024-09-11T08:13:33.906832",
     "exception": false,
     "start_time": "2024-09-11T08:13:33.875325",
     "status": "completed"
    },
    "tags": []
   },
   "source": [
    "# Line chart"
   ]
  },
  {
   "cell_type": "code",
   "execution_count": 40,
   "id": "10e9161f",
   "metadata": {
    "execution": {
     "iopub.execute_input": "2024-09-11T08:13:33.974254Z",
     "iopub.status.busy": "2024-09-11T08:13:33.973765Z",
     "iopub.status.idle": "2024-09-11T08:13:34.358137Z",
     "shell.execute_reply": "2024-09-11T08:13:34.356878Z"
    },
    "papermill": {
     "duration": 0.421705,
     "end_time": "2024-09-11T08:13:34.360807",
     "exception": false,
     "start_time": "2024-09-11T08:13:33.939102",
     "status": "completed"
    },
    "tags": []
   },
   "outputs": [
    {
     "name": "stderr",
     "output_type": "stream",
     "text": [
      "/tmp/ipykernel_17/2932379486.py:2: SettingWithCopyWarning: \n",
      "A value is trying to be set on a copy of a slice from a DataFrame.\n",
      "Try using .loc[row_indexer,col_indexer] = value instead\n",
      "\n",
      "See the caveats in the documentation: https://pandas.pydata.org/pandas-docs/stable/user_guide/indexing.html#returning-a-view-versus-a-copy\n",
      "  df2['Time'] = pd.to_datetime(df2['Time'], format='%H:%M')\n"
     ]
    },
    {
     "data": {
      "image/png": "[encoded data removed]",
      "text/plain": [
       "<Figure size 1200x600 with 1 Axes>"
      ]
     },
     "metadata": {},
     "output_type": "display_data"
    }
   ],
   "source": [
    "# Convert 'Time' to datetime if needed\n",
    "df2['Time'] = pd.to_datetime(df2['Time'], format='%H:%M')\n",
    "\n",
    "# Count occurrences by time\n",
    "time_counts = df2['Time'].value_counts().sort_index()\n",
    "\n",
    "plt.figure(figsize=(12, 6))\n",
    "plt.plot(time_counts.index, time_counts.values, marker='o', linestyle='-')\n",
    "plt.title('Number of Accidents by Time of Day')\n",
    "plt.xlabel('Time')\n",
    "plt.ylabel('Number of Accidents')\n",
    "plt.xticks(rotation=45)\n",
    "plt.grid(True)\n",
    "plt.show()\n"
   ]
  },
  {
   "cell_type": "markdown",
   "id": "c61b0612",
   "metadata": {
    "papermill": {
     "duration": 0.031588,
     "end_time": "2024-09-11T08:13:34.424465",
     "exception": false,
     "start_time": "2024-09-11T08:13:34.392877",
     "status": "completed"
    },
    "tags": []
   },
   "source": [
    "**Line bar**"
   ]
  },
  {
   "cell_type": "markdown",
   "id": "1da0e036",
   "metadata": {
    "papermill": {
     "duration": 0.031884,
     "end_time": "2024-09-11T08:13:34.487984",
     "exception": false,
     "start_time": "2024-09-11T08:13:34.456100",
     "status": "completed"
    },
    "tags": []
   },
   "source": []
  },
  {
   "cell_type": "code",
   "execution_count": 41,
   "id": "ee26a5b8",
   "metadata": {
    "execution": {
     "iopub.execute_input": "2024-09-11T08:13:34.553288Z",
     "iopub.status.busy": "2024-09-11T08:13:34.552781Z",
     "iopub.status.idle": "2024-09-11T08:13:34.905003Z",
     "shell.execute_reply": "2024-09-11T08:13:34.903843Z"
    },
    "papermill": {
     "duration": 0.388287,
     "end_time": "2024-09-11T08:13:34.907898",
     "exception": false,
     "start_time": "2024-09-11T08:13:34.519611",
     "status": "completed"
    },
    "tags": []
   },
   "outputs": [
    {
     "data": {
      "image/png": "[encoded data removed]",
      "text/plain": [
       "<Figure size 1200x600 with 1 Axes>"
      ]
     },
     "metadata": {},
     "output_type": "display_data"
    }
   ],
   "source": [
    "# Count occurrences by Day_of_week\n",
    "day_counts = df2['Day_of_week'].value_counts().sort_index()\n",
    "\n",
    "plt.figure(figsize=(12, 6))\n",
    "plt.bar(day_counts.index, day_counts.values, color='skyblue', edgecolor='black', alpha=0.7)\n",
    "plt.plot(day_counts.index, day_counts.values, marker='o', color='red', linestyle='-', linewidth=2, markersize=8)\n",
    "plt.title('Accidents by Day of Week')\n",
    "plt.xlabel('Day of Week')\n",
    "plt.ylabel('Number of Accidents')\n",
    "plt.grid(True)\n",
    "plt.show()\n"
   ]
  },
  {
   "cell_type": "markdown",
   "id": "ec7c856b",
   "metadata": {
    "papermill": {
     "duration": 0.033166,
     "end_time": "2024-09-11T08:13:34.975060",
     "exception": false,
     "start_time": "2024-09-11T08:13:34.941894",
     "status": "completed"
    },
    "tags": []
   },
   "source": [
    "# Histogram"
   ]
  },
  {
   "cell_type": "code",
   "execution_count": 42,
   "id": "bd350fa0",
   "metadata": {
    "execution": {
     "iopub.execute_input": "2024-09-11T08:13:35.042758Z",
     "iopub.status.busy": "2024-09-11T08:13:35.042316Z",
     "iopub.status.idle": "2024-09-11T08:13:35.352943Z",
     "shell.execute_reply": "2024-09-11T08:13:35.351491Z"
    },
    "papermill": {
     "duration": 0.348475,
     "end_time": "2024-09-11T08:13:35.356103",
     "exception": false,
     "start_time": "2024-09-11T08:13:35.007628",
     "status": "completed"
    },
    "tags": []
   },
   "outputs": [
    {
     "name": "stderr",
     "output_type": "stream",
     "text": [
      "/tmp/ipykernel_17/3751609143.py:9: SettingWithCopyWarning: \n",
      "A value is trying to be set on a copy of a slice from a DataFrame.\n",
      "Try using .loc[row_indexer,col_indexer] = value instead\n",
      "\n",
      "See the caveats in the documentation: https://pandas.pydata.org/pandas-docs/stable/user_guide/indexing.html#returning-a-view-versus-a-copy\n",
      "  df2['Driving_experience_num'] = df2['Driving_experience'].map(experience_mapping)\n"
     ]
    },
    {
     "data": {
      "image/png": "[encoded data removed]",
      "text/plain": [
       "<Figure size 1000x600 with 1 Axes>"
      ]
     },
     "metadata": {},
     "output_type": "display_data"
    }
   ],
   "source": [
    "# Convert Driving_experience to numerical values\n",
    "experience_mapping = {\n",
    "    '1-2yr': 1.5,\n",
    "    '2-5yr': 3.5,\n",
    "    '5-10yr': 7.5,\n",
    "    '10-15yr': 12.5,\n",
    "    'Above 10yr': 15\n",
    "}\n",
    "df2['Driving_experience_num'] = df2['Driving_experience'].map(experience_mapping)\n",
    "\n",
    "# Plot histogram\n",
    "plt.figure(figsize=(10, 6))\n",
    "plt.hist(df2['Driving_experience_num'], bins=5, edgecolor='k', alpha=0.7)\n",
    "plt.title('Histogram of Driving Experience')\n",
    "plt.xlabel('Driving Experience (Years)')\n",
    "plt.ylabel('Frequency')\n",
    "plt.grid(True)\n",
    "plt.show()\n"
   ]
  },
  {
   "cell_type": "code",
   "execution_count": 43,
   "id": "468786b1",
   "metadata": {
    "execution": {
     "iopub.execute_input": "2024-09-11T08:13:35.427712Z",
     "iopub.status.busy": "2024-09-11T08:13:35.427128Z",
     "iopub.status.idle": "2024-09-11T08:13:35.441726Z",
     "shell.execute_reply": "2024-09-11T08:13:35.440743Z"
    },
    "papermill": {
     "duration": 0.052375,
     "end_time": "2024-09-11T08:13:35.444305",
     "exception": false,
     "start_time": "2024-09-11T08:13:35.391930",
     "status": "completed"
    },
    "tags": []
   },
   "outputs": [],
   "source": [
    "import pandas as pd\n",
    "import plotly.graph_objects as go\n",
    "\n",
    "# Example hierarchical data\n",
    "data = {\n",
    "    'ids': ['Total', 'Monday', 'Tuesday', 'Wednesday', 'Thursday', 'Friday', 'Saturday', 'Sunday',\n",
    "            'Monday_Slight Injury', 'Monday_Serious Injury',\n",
    "            'Tuesday_Slight Injury', 'Tuesday_Serious Injury',\n",
    "            'Wednesday_Slight Injury', 'Wednesday_Serious Injury',\n",
    "            'Thursday_Slight Injury', 'Thursday_Serious Injury',\n",
    "            'Friday_Slight Injury', 'Friday_Serious Injury',\n",
    "            'Saturday_Slight Injury', 'Saturday_Serious Injury',\n",
    "            'Sunday_Slight Injury', 'Sunday_Serious Injury'],\n",
    "    'labels': ['Total', 'Monday', 'Tuesday', 'Wednesday', 'Thursday', 'Friday', 'Saturday', 'Sunday',\n",
    "               'Slight Injury', 'Serious Injury',\n",
    "               'Slight Injury', 'Serious Injury',\n",
    "               'Slight Injury', 'Serious Injury',\n",
    "               'Slight Injury', 'Serious Injury',\n",
    "               'Slight Injury', 'Serious Injury',\n",
    "               'Slight Injury', 'Serious Injury',\n",
    "               'Slight Injury', 'Serious Injury'],\n",
    "    'parents': ['', 'Total', 'Total', 'Total', 'Total', 'Total', 'Total', 'Total',\n",
    "                'Monday', 'Monday',\n",
    "                'Tuesday', 'Tuesday',\n",
    "                'Wednesday', 'Wednesday',\n",
    "                'Thursday', 'Thursday',\n",
    "                'Friday', 'Friday',\n",
    "                'Saturday', 'Saturday',\n",
    "                'Sunday', 'Sunday']\n",
    "}\n",
    "\n",
    "df = pd.DataFrame(data)\n"
   ]
  },
  {
   "cell_type": "code",
   "execution_count": 44,
   "id": "f07e1add",
   "metadata": {
    "execution": {
     "iopub.execute_input": "2024-09-11T08:13:35.513874Z",
     "iopub.status.busy": "2024-09-11T08:13:35.513444Z",
     "iopub.status.idle": "2024-09-11T08:13:35.813446Z",
     "shell.execute_reply": "2024-09-11T08:13:35.812174Z"
    },
    "papermill": {
     "duration": 0.337151,
     "end_time": "2024-09-11T08:13:35.816083",
     "exception": false,
     "start_time": "2024-09-11T08:13:35.478932",
     "status": "completed"
    },
    "tags": []
   },
   "outputs": [
    {
     "data": {
      "text/html": [
       "        <script type=\"text/javascript\">\n",
       "        window.PlotlyConfig = {MathJaxConfig: 'local'};\n",
       "        if (window.MathJax && window.MathJax.Hub && window.MathJax.Hub.Config) {window.MathJax.Hub.Config({SVG: {font: \"STIX-Web\"}});}\n",
       "        if (typeof require !== 'undefined') {\n",
       "        require.undef(\"plotly\");\n",
       "        requirejs.config({\n",
       "            paths: {\n",
       "                'plotly': ['https://cdn.plot.ly/plotly-2.32.0.min']\n",
       "            }\n",
       "        });\n",
       "        require(['plotly'], function(Plotly) {\n",
       "            window._Plotly = Plotly;\n",
       "        });\n",
       "        }\n",
       "        </script>\n",
       "        "
      ]
     },
     "metadata": {},
     "output_type": "display_data"
    },
    {
     "data": {
      "text/html": [
       "<div>                            <div id=\"c3da267d-225c-4a19-9222-94998a5a1dbf\" class=\"plotly-graph-div\" style=\"height:525px; width:100%;\"></div>            <script type=\"text/javascript\">                require([\"plotly\"], function(Plotly) {                    window.PLOTLYENV=window.PLOTLYENV || {};                                    if (document.getElementById(\"c3da267d-225c-4a19-9222-94998a5a1dbf\")) {                    Plotly.newPlot(                        \"c3da267d-225c-4a19-9222-94998a5a1dbf\",                        [{\"branchvalues\":\"total\",\"ids\":[\"Total\",\"Monday\",\"Tuesday\",\"Wednesday\",\"Thursday\",\"Friday\",\"Saturday\",\"Sunday\",\"Monday_Slight Injury\",\"Monday_Serious Injury\",\"Tuesday_Slight Injury\",\"Tuesday_Serious Injury\",\"Wednesday_Slight Injury\",\"Wednesday_Serious Injury\",\"Thursday_Slight Injury\",\"Thursday_Serious Injury\",\"Friday_Slight Injury\",\"Friday_Serious Injury\",\"Saturday_Slight Injury\",\"Saturday_Serious Injury\",\"Sunday_Slight Injury\",\"Sunday_Serious Injury\"],\"labels\":[\"Total\",\"Monday\",\"Tuesday\",\"Wednesday\",\"Thursday\",\"Friday\",\"Saturday\",\"Sunday\",\"Slight Injury\",\"Serious Injury\",\"Slight Injury\",\"Serious Injury\",\"Slight Injury\",\"Serious Injury\",\"Slight Injury\",\"Serious Injury\",\"Slight Injury\",\"Serious Injury\",\"Slight Injury\",\"Serious Injury\",\"Slight Injury\",\"Serious Injury\"],\"parents\":[\"\",\"Total\",\"Total\",\"Total\",\"Total\",\"Total\",\"Total\",\"Total\",\"Monday\",\"Monday\",\"Tuesday\",\"Tuesday\",\"Wednesday\",\"Wednesday\",\"Thursday\",\"Thursday\",\"Friday\",\"Friday\",\"Saturday\",\"Saturday\",\"Sunday\",\"Sunday\"],\"type\":\"sunburst\"}],                        {\"template\":{\"data\":{\"histogram2dcontour\":[{\"type\":\"histogram2dcontour\",\"colorbar\":{\"outlinewidth\":0,\"ticks\":\"\"},\"colorscale\":[[0.0,\"#0d0887\"],[0.1111111111111111,\"#46039f\"],[0.2222222222222222,\"#7201a8\"],[0.3333333333333333,\"#9c179e\"],[0.4444444444444444,\"#bd3786\"],[0.5555555555555556,\"#d8576b\"],[0.6666666666666666,\"#ed7953\"],[0.7777777777777778,\"#fb9f3a\"],[0.8888888888888888,\"#fdca26\"],[1.0,\"#f0f921\"]]}],\"choropleth\":[{\"type\":\"choropleth\",\"colorbar\":{\"outlinewidth\":0,\"ticks\":\"\"}}],\"histogram2d\":[{\"type\":\"histogram2d\",\"colorbar\":{\"outlinewidth\":0,\"ticks\":\"\"},\"colorscale\":[[0.0,\"#0d0887\"],[0.1111111111111111,\"#46039f\"],[0.2222222222222222,\"#7201a8\"],[0.3333333333333333,\"#9c179e\"],[0.4444444444444444,\"#bd3786\"],[0.5555555555555556,\"#d8576b\"],[0.6666666666666666,\"#ed7953\"],[0.7777777777777778,\"#fb9f3a\"],[0.8888888888888888,\"#fdca26\"],[1.0,\"#f0f921\"]]}],\"heatmap\":[{\"type\":\"heatmap\",\"colorbar\":{\"outlinewidth\":0,\"ticks\":\"\"},\"colorscale\":[[0.0,\"#0d0887\"],[0.1111111111111111,\"#46039f\"],[0.2222222222222222,\"#7201a8\"],[0.3333333333333333,\"#9c179e\"],[0.4444444444444444,\"#bd3786\"],[0.5555555555555556,\"#d8576b\"],[0.6666666666666666,\"#ed7953\"],[0.7777777777777778,\"#fb9f3a\"],[0.8888888888888888,\"#fdca26\"],[1.0,\"#f0f921\"]]}],\"heatmapgl\":[{\"type\":\"heatmapgl\",\"colorbar\":{\"outlinewidth\":0,\"ticks\":\"\"},\"colorscale\":[[0.0,\"#0d0887\"],[0.1111111111111111,\"#46039f\"],[0.2222222222222222,\"#7201a8\"],[0.3333333333333333,\"#9c179e\"],[0.4444444444444444,\"#bd3786\"],[0.5555555555555556,\"#d8576b\"],[0.6666666666666666,\"#ed7953\"],[0.7777777777777778,\"#fb9f3a\"],[0.8888888888888888,\"#fdca26\"],[1.0,\"#f0f921\"]]}],\"contourcarpet\":[{\"type\":\"contourcarpet\",\"colorbar\":{\"outlinewidth\":0,\"ticks\":\"\"}}],\"contour\":[{\"type\":\"contour\",\"colorbar\":{\"outlinewidth\":0,\"ticks\":\"\"},\"colorscale\":[[0.0,\"#0d0887\"],[0.1111111111111111,\"#46039f\"],[0.2222222222222222,\"#7201a8\"],[0.3333333333333333,\"#9c179e\"],[0.4444444444444444,\"#bd3786\"],[0.5555555555555556,\"#d8576b\"],[0.6666666666666666,\"#ed7953\"],[0.7777777777777778,\"#fb9f3a\"],[0.8888888888888888,\"#fdca26\"],[1.0,\"#f0f921\"]]}],\"surface\":[{\"type\":\"surface\",\"colorbar\":{\"outlinewidth\":0,\"ticks\":\"\"},\"colorscale\":[[0.0,\"#0d0887\"],[0.1111111111111111,\"#46039f\"],[0.2222222222222222,\"#7201a8\"],[0.3333333333333333,\"#9c179e\"],[0.4444444444444444,\"#bd3786\"],[0.5555555555555556,\"#d8576b\"],[0.6666666666666666,\"#ed7953\"],[0.7777777777777778,\"#fb9f3a\"],[0.8888888888888888,\"#fdca26\"],[1.0,\"#f0f921\"]]}],\"mesh3d\":[{\"type\":\"mesh3d\",\"colorbar\":{\"outlinewidth\":0,\"ticks\":\"\"}}],\"scatter\":[{\"fillpattern\":{\"fillmode\":\"overlay\",\"size\":10,\"solidity\":0.2},\"type\":\"scatter\"}],\"parcoords\":[{\"type\":\"parcoords\",\"line\":{\"colorbar\":{\"outlinewidth\":0,\"ticks\":\"\"}}}],\"scatterpolargl\":[{\"type\":\"scatterpolargl\",\"marker\":{\"colorbar\":{\"outlinewidth\":0,\"ticks\":\"\"}}}],\"bar\":[{\"error_x\":{\"color\":\"#2a3f5f\"},\"error_y\":{\"color\":\"#2a3f5f\"},\"marker\":{\"line\":{\"color\":\"#E5ECF6\",\"width\":0.5},\"pattern\":{\"fillmode\":\"overlay\",\"size\":10,\"solidity\":0.2}},\"type\":\"bar\"}],\"scattergeo\":[{\"type\":\"scattergeo\",\"marker\":{\"colorbar\":{\"outlinewidth\":0,\"ticks\":\"\"}}}],\"scatterpolar\":[{\"type\":\"scatterpolar\",\"marker\":{\"colorbar\":{\"outlinewidth\":0,\"ticks\":\"\"}}}],\"histogram\":[{\"marker\":{\"pattern\":{\"fillmode\":\"overlay\",\"size\":10,\"solidity\":0.2}},\"type\":\"histogram\"}],\"scattergl\":[{\"type\":\"scattergl\",\"marker\":{\"colorbar\":{\"outlinewidth\":0,\"ticks\":\"\"}}}],\"scatter3d\":[{\"type\":\"scatter3d\",\"line\":{\"colorbar\":{\"outlinewidth\":0,\"ticks\":\"\"}},\"marker\":{\"colorbar\":{\"outlinewidth\":0,\"ticks\":\"\"}}}],\"scattermapbox\":[{\"type\":\"scattermapbox\",\"marker\":{\"colorbar\":{\"outlinewidth\":0,\"ticks\":\"\"}}}],\"scatterternary\":[{\"type\":\"scatterternary\",\"marker\":{\"colorbar\":{\"outlinewidth\":0,\"ticks\":\"\"}}}],\"scattercarpet\":[{\"type\":\"scattercarpet\",\"marker\":{\"colorbar\":{\"outlinewidth\":0,\"ticks\":\"\"}}}],\"carpet\":[{\"aaxis\":{\"endlinecolor\":\"#2a3f5f\",\"gridcolor\":\"white\",\"linecolor\":\"white\",\"minorgridcolor\":\"white\",\"startlinecolor\":\"#2a3f5f\"},\"baxis\":{\"endlinecolor\":\"#2a3f5f\",\"gridcolor\":\"white\",\"linecolor\":\"white\",\"minorgridcolor\":\"white\",\"startlinecolor\":\"#2a3f5f\"},\"type\":\"carpet\"}],\"table\":[{\"cells\":{\"fill\":{\"color\":\"#EBF0F8\"},\"line\":{\"color\":\"white\"}},\"header\":{\"fill\":{\"color\":\"#C8D4E3\"},\"line\":{\"color\":\"white\"}},\"type\":\"table\"}],\"barpolar\":[{\"marker\":{\"line\":{\"color\":\"#E5ECF6\",\"width\":0.5},\"pattern\":{\"fillmode\":\"overlay\",\"size\":10,\"solidity\":0.2}},\"type\":\"barpolar\"}],\"pie\":[{\"automargin\":true,\"type\":\"pie\"}]},\"layout\":{\"autotypenumbers\":\"strict\",\"colorway\":[\"#636efa\",\"#EF553B\",\"#00cc96\",\"#ab63fa\",\"#FFA15A\",\"#19d3f3\",\"#FF6692\",\"#B6E880\",\"#FF97FF\",\"#FECB52\"],\"font\":{\"color\":\"#2a3f5f\"},\"hovermode\":\"closest\",\"hoverlabel\":{\"align\":\"left\"},\"paper_bgcolor\":\"white\",\"plot_bgcolor\":\"#E5ECF6\",\"polar\":{\"bgcolor\":\"#E5ECF6\",\"angularaxis\":{\"gridcolor\":\"white\",\"linecolor\":\"white\",\"ticks\":\"\"},\"radialaxis\":{\"gridcolor\":\"white\",\"linecolor\":\"white\",\"ticks\":\"\"}},\"ternary\":{\"bgcolor\":\"#E5ECF6\",\"aaxis\":{\"gridcolor\":\"white\",\"linecolor\":\"white\",\"ticks\":\"\"},\"baxis\":{\"gridcolor\":\"white\",\"linecolor\":\"white\",\"ticks\":\"\"},\"caxis\":{\"gridcolor\":\"white\",\"linecolor\":\"white\",\"ticks\":\"\"}},\"coloraxis\":{\"colorbar\":{\"outlinewidth\":0,\"ticks\":\"\"}},\"colorscale\":{\"sequential\":[[0.0,\"#0d0887\"],[0.1111111111111111,\"#46039f\"],[0.2222222222222222,\"#7201a8\"],[0.3333333333333333,\"#9c179e\"],[0.4444444444444444,\"#bd3786\"],[0.5555555555555556,\"#d8576b\"],[0.6666666666666666,\"#ed7953\"],[0.7777777777777778,\"#fb9f3a\"],[0.8888888888888888,\"#fdca26\"],[1.0,\"#f0f921\"]],\"sequentialminus\":[[0.0,\"#0d0887\"],[0.1111111111111111,\"#46039f\"],[0.2222222222222222,\"#7201a8\"],[0.3333333333333333,\"#9c179e\"],[0.4444444444444444,\"#bd3786\"],[0.5555555555555556,\"#d8576b\"],[0.6666666666666666,\"#ed7953\"],[0.7777777777777778,\"#fb9f3a\"],[0.8888888888888888,\"#fdca26\"],[1.0,\"#f0f921\"]],\"diverging\":[[0,\"#8e0152\"],[0.1,\"#c51b7d\"],[0.2,\"#de77ae\"],[0.3,\"#f1b6da\"],[0.4,\"#fde0ef\"],[0.5,\"#f7f7f7\"],[0.6,\"#e6f5d0\"],[0.7,\"#b8e186\"],[0.8,\"#7fbc41\"],[0.9,\"#4d9221\"],[1,\"#276419\"]]},\"xaxis\":{\"gridcolor\":\"white\",\"linecolor\":\"white\",\"ticks\":\"\",\"title\":{\"standoff\":15},\"zerolinecolor\":\"white\",\"automargin\":true,\"zerolinewidth\":2},\"yaxis\":{\"gridcolor\":\"white\",\"linecolor\":\"white\",\"ticks\":\"\",\"title\":{\"standoff\":15},\"zerolinecolor\":\"white\",\"automargin\":true,\"zerolinewidth\":2},\"scene\":{\"xaxis\":{\"backgroundcolor\":\"#E5ECF6\",\"gridcolor\":\"white\",\"linecolor\":\"white\",\"showbackground\":true,\"ticks\":\"\",\"zerolinecolor\":\"white\",\"gridwidth\":2},\"yaxis\":{\"backgroundcolor\":\"#E5ECF6\",\"gridcolor\":\"white\",\"linecolor\":\"white\",\"showbackground\":true,\"ticks\":\"\",\"zerolinecolor\":\"white\",\"gridwidth\":2},\"zaxis\":{\"backgroundcolor\":\"#E5ECF6\",\"gridcolor\":\"white\",\"linecolor\":\"white\",\"showbackground\":true,\"ticks\":\"\",\"zerolinecolor\":\"white\",\"gridwidth\":2}},\"shapedefaults\":{\"line\":{\"color\":\"#2a3f5f\"}},\"annotationdefaults\":{\"arrowcolor\":\"#2a3f5f\",\"arrowhead\":0,\"arrowwidth\":1},\"geo\":{\"bgcolor\":\"white\",\"landcolor\":\"#E5ECF6\",\"subunitcolor\":\"white\",\"showland\":true,\"showlakes\":true,\"lakecolor\":\"white\"},\"title\":{\"x\":0.05},\"mapbox\":{\"style\":\"light\"}}},\"margin\":{\"t\":0,\"l\":0,\"r\":0,\"b\":0},\"title\":{\"text\":\"Accidents Distribution by Day and Severity\"}},                        {\"responsive\": true}                    ).then(function(){\n",
       "                            \n",
       "var gd = document.getElementById('c3da267d-225c-4a19-9222-94998a5a1dbf');\n",
       "var x = new MutationObserver(function (mutations, observer) {{\n",
       "        var display = window.getComputedStyle(gd).display;\n",
       "        if (!display || display === 'none') {{\n",
       "            console.log([gd, 'removed!']);\n",
       "            Plotly.purge(gd);\n",
       "            observer.disconnect();\n",
       "        }}\n",
       "}});\n",
       "\n",
       "// Listen for the removal of the full notebook cells\n",
       "var notebookContainer = gd.closest('#notebook-container');\n",
       "if (notebookContainer) {{\n",
       "    x.observe(notebookContainer, {childList: true});\n",
       "}}\n",
       "\n",
       "// Listen for the clearing of the current output cell\n",
       "var outputEl = gd.closest('.output');\n",
       "if (outputEl) {{\n",
       "    x.observe(outputEl, {childList: true});\n",
       "}}\n",
       "\n",
       "                        })                };                });            </script>        </div>"
      ]
     },
     "metadata": {},
     "output_type": "display_data"
    }
   ],
   "source": [
    "fig = go.Figure(go.Sunburst(\n",
    "    labels=df['labels'],\n",
    "    parents=df['parents'],\n",
    "    ids=df['ids'],\n",
    "    branchvalues=\"total\"\n",
    "))\n",
    "\n",
    "fig.update_layout(margin=dict(t=0, l=0, r=0, b=0))\n",
    "fig.update_layout(title='Accidents Distribution by Day and Severity')\n",
    "\n",
    "# Show the plot\n",
    "fig.show()\n"
   ]
  },
  {
   "cell_type": "markdown",
   "id": "0963e46e",
   "metadata": {
    "papermill": {
     "duration": 0.034854,
     "end_time": "2024-09-11T08:13:35.886259",
     "exception": false,
     "start_time": "2024-09-11T08:13:35.851405",
     "status": "completed"
    },
    "tags": []
   },
   "source": [
    "# Data questioning\n",
    "**1.What types of vehicles are most commonly involved in accidents?**\n",
    "**2.What is the distribution of accidents by time of day?**\n",
    "**3. What is the distribution of accidents across different age bands of drivers?**"
   ]
  },
  {
   "cell_type": "code",
   "execution_count": 45,
   "id": "dc50b4e4",
   "metadata": {
    "execution": {
     "iopub.execute_input": "2024-09-11T08:13:35.956315Z",
     "iopub.status.busy": "2024-09-11T08:13:35.955876Z",
     "iopub.status.idle": "2024-09-11T08:13:36.357779Z",
     "shell.execute_reply": "2024-09-11T08:13:36.356566Z"
    },
    "papermill": {
     "duration": 0.44079,
     "end_time": "2024-09-11T08:13:36.360641",
     "exception": false,
     "start_time": "2024-09-11T08:13:35.919851",
     "status": "completed"
    },
    "tags": []
   },
   "outputs": [
    {
     "data": {
      "image/png": "[encoded data removed]",
      "text/plain": [
       "<Figure size 640x480 with 1 Axes>"
      ]
     },
     "metadata": {},
     "output_type": "display_data"
    }
   ],
   "source": [
    "#What types of vehicles are most commonly involved in accidents?\n",
    "df1['Type_of_vehicle'].value_counts().plot(kind='bar', color='teal')\n",
    "plt.title('Number of Accidents by Vehicle Type')\n",
    "plt.xlabel('Type of Vehicle')\n",
    "plt.ylabel('Number of Accidents')\n",
    "plt.xticks(rotation=45)\n",
    "plt.show()\n"
   ]
  },
  {
   "cell_type": "code",
   "execution_count": 46,
   "id": "9a117699",
   "metadata": {
    "execution": {
     "iopub.execute_input": "2024-09-11T08:13:36.433672Z",
     "iopub.status.busy": "2024-09-11T08:13:36.433228Z",
     "iopub.status.idle": "2024-09-11T08:13:36.721517Z",
     "shell.execute_reply": "2024-09-11T08:13:36.720266Z"
    },
    "papermill": {
     "duration": 0.328269,
     "end_time": "2024-09-11T08:13:36.724016",
     "exception": false,
     "start_time": "2024-09-11T08:13:36.395747",
     "status": "completed"
    },
    "tags": []
   },
   "outputs": [
    {
     "data": {
      "image/png": "[encoded data removed]",
      "text/plain": [
       "<Figure size 640x480 with 1 Axes>"
      ]
     },
     "metadata": {},
     "output_type": "display_data"
    }
   ],
   "source": [
    "#What is the distribution of accidents by time of day?\n",
    "import pandas as pd\n",
    "import matplotlib.pyplot as plt\n",
    "\n",
    "# Sample data loading\n",
    "data = {\n",
    "    'Time': ['17:02:00', '17:02:00', '17:02:00', '1:06:00', '1:06:00', '16:15:00', '18:00:00', '13:55:00', '13:55:00', '13:55:00'],\n",
    "    'Day_of_week': ['Monday', 'Monday', 'Monday', 'Sunday', 'Sunday', 'Wednesday', 'Sunday', 'Sunday', 'Sunday', 'Sunday'],\n",
    "    'Age_band_of_driver': ['18-30', '31-50', '18-30', '18-30', '18-30', '31-50', 'Unknown', 'Over 51', '18-30', '18-30'],\n",
    "    'Sex_of_driver': ['Male', 'Male', 'Male', 'Male', 'Male', 'Male', 'Male', 'Male', 'Female', 'Male'],\n",
    "    'Type_of_vehicle': ['Automobile', 'Public', 'Lorry', 'Public', 'unknown', 'Lorry', 'Automobile', 'Bajaj', 'Lorry', 'Other'],\n",
    "    'Vehicle_movement': ['Going straight', 'Going straight', 'Going straight', 'Going straight', 'Going straight', 'Going straight', 'Other', 'Other', 'Other', 'Stopping'],\n",
    "    'Driving_experience': ['1-2yr', '10-15yr', '1-2yr', '5-10yr', '2-5yr', '2-5yr', '5-10yr', '5-10yr', '10-15yr', '5-10yr'],\n",
    "    'Service_year_of_vehicle': ['Above 10yr', '5-10yrs', 'Service_year_of_vehicle_mode', 'Service_year_of_vehicle_mode', '5-10yrs', 'Service_year_of_vehicle_mode', 'Service_year_of_vehicle_mode', '2-5yrs', '2-5yrs', '2-5yrs'],\n",
    "    'Cause_of_accident': ['Moving Backward', 'Overtaking', 'Changing lane to the left', 'Changing lane to the right', 'Overtaking', 'No distancing', 'No distancing', 'Changing lane to the right', 'Driving under the influence of drugs', 'Changing lane to the right'],\n",
    "    'Accident_severity': ['Slight Injury', 'Slight Injury', 'Serious Injury', 'Slight Injury', 'Slight Injury', 'Slight Injury', 'Slight Injury', 'Serious Injury', 'Slight Injury', 'Slight Injury']\n",
    "}\n",
    "\n",
    "df = pd.DataFrame(data)\n",
    "\n",
    "# Convert 'Time' to datetime and extract hour\n",
    "df['Time'] = pd.to_datetime(df['Time'], format='%H:%M:%S').dt.strftime('%H:%M')\n",
    "time_counts = df['Time'].value_counts().sort_index()\n",
    "\n",
    "# Plot\n",
    "time_counts.plot(kind='bar', color='skyblue')\n",
    "plt.title('Number of Accidents by Time of Day')\n",
    "plt.xlabel('Time of Day')\n",
    "plt.ylabel('Number of Accidents')\n",
    "plt.xticks(rotation=45)\n",
    "plt.show()\n"
   ]
  },
  {
   "cell_type": "code",
   "execution_count": 47,
   "id": "70456a9e",
   "metadata": {
    "execution": {
     "iopub.execute_input": "2024-09-11T08:13:36.800576Z",
     "iopub.status.busy": "2024-09-11T08:13:36.799585Z",
     "iopub.status.idle": "2024-09-11T08:13:36.964179Z",
     "shell.execute_reply": "2024-09-11T08:13:36.962308Z"
    },
    "papermill": {
     "duration": 0.210695,
     "end_time": "2024-09-11T08:13:36.971617",
     "exception": false,
     "start_time": "2024-09-11T08:13:36.760922",
     "status": "completed"
    },
    "tags": []
   },
   "outputs": [
    {
     "data": {
      "image/png": "[encoded data removed]",
      "text/plain": [
       "<Figure size 640x480 with 1 Axes>"
      ]
     },
     "metadata": {},
     "output_type": "display_data"
    }
   ],
   "source": [
    "#3.What is the distribution of accidents across different age bands of drivers?\n",
    "df['Age_band_of_driver'].value_counts().plot(kind='pie', autopct='%1.1f%%', colors=['#ff9999','#66b3ff','#99ff99','#ffcc99'])\n",
    "plt.title('Accidents by Age Band of Driver')\n",
    "plt.ylabel('')\n",
    "plt.show()\n"
   ]
  },
  {
   "cell_type": "markdown",
   "id": "8ab25df5",
   "metadata": {
    "papermill": {
     "duration": 0.039114,
     "end_time": "2024-09-11T08:13:37.071166",
     "exception": false,
     "start_time": "2024-09-11T08:13:37.032052",
     "status": "completed"
    },
    "tags": []
   },
   "source": [
    "#  Descriptive Questions and Answers\n",
    "1. How does accident severity differ by time of day?\n",
    "2. Are there differences in accident severity based on the day of the week?\n",
    "\n"
   ]
  },
  {
   "cell_type": "code",
   "execution_count": 48,
   "id": "118ef0ab",
   "metadata": {
    "execution": {
     "iopub.execute_input": "2024-09-11T08:13:37.146690Z",
     "iopub.status.busy": "2024-09-11T08:13:37.146268Z",
     "iopub.status.idle": "2024-09-11T08:13:37.432710Z",
     "shell.execute_reply": "2024-09-11T08:13:37.430899Z"
    },
    "papermill": {
     "duration": 0.327792,
     "end_time": "2024-09-11T08:13:37.436068",
     "exception": false,
     "start_time": "2024-09-11T08:13:37.108276",
     "status": "completed"
    },
    "tags": []
   },
   "outputs": [
    {
     "data": {
      "image/png": "[encoded data removed]",
      "text/plain": [
       "<Figure size 640x480 with 1 Axes>"
      ]
     },
     "metadata": {},
     "output_type": "display_data"
    }
   ],
   "source": [
    "# How does accident severity differ by time of day?\n",
    "df['Hour'] = pd.to_datetime(df['Time'], format='%H:%M').dt.hour\n",
    "sns.boxplot(x='Accident_severity', y='Hour', data=df, palette='pastel')\n",
    "plt.title('Accident Severity by Time of Day')\n",
    "plt.xlabel('Accident Severity')\n",
    "plt.ylabel('Hour of Day')\n",
    "plt.show()\n"
   ]
  },
  {
   "cell_type": "code",
   "execution_count": 49,
   "id": "fdc63c00",
   "metadata": {
    "execution": {
     "iopub.execute_input": "2024-09-11T08:13:37.514937Z",
     "iopub.status.busy": "2024-09-11T08:13:37.514482Z",
     "iopub.status.idle": "2024-09-11T08:13:37.770341Z",
     "shell.execute_reply": "2024-09-11T08:13:37.769140Z"
    },
    "papermill": {
     "duration": 0.297693,
     "end_time": "2024-09-11T08:13:37.772822",
     "exception": false,
     "start_time": "2024-09-11T08:13:37.475129",
     "status": "completed"
    },
    "tags": []
   },
   "outputs": [
    {
     "data": {
      "image/png": "[encoded data removed]",
      "text/plain": [
       "<Figure size 640x480 with 1 Axes>"
      ]
     },
     "metadata": {},
     "output_type": "display_data"
    }
   ],
   "source": [
    "#Are there differences in accident severity based on the day of the week?\n",
    "severity_counts = df.groupby('Day_of_week')['Accident_severity'].value_counts().unstack().fillna(0)\n",
    "severity_counts.plot(kind='bar', stacked=True, color=['#ff9999', '#66b3ff'])\n",
    "plt.title('Accident Severity by Day of the Week')\n",
    "plt.xlabel('Day of Week')\n",
    "plt.ylabel('Number of Accidents')\n",
    "plt.xticks(rotation=45)\n",
    "plt.show()\n"
   ]
  },
  {
   "cell_type": "markdown",
   "id": "fc7b4576",
   "metadata": {
    "papermill": {
     "duration": 0.038463,
     "end_time": "2024-09-11T08:13:37.851246",
     "exception": false,
     "start_time": "2024-09-11T08:13:37.812783",
     "status": "completed"
    },
    "tags": []
   },
   "source": []
  },
  {
   "cell_type": "code",
   "execution_count": null,
   "id": "7e33aa4d",
   "metadata": {
    "papermill": {
     "duration": 0.037555,
     "end_time": "2024-09-11T08:13:37.929853",
     "exception": false,
     "start_time": "2024-09-11T08:13:37.892298",
     "status": "completed"
    },
    "tags": []
   },
   "outputs": [],
   "source": []
  }
 ],
 "metadata": {
  "kaggle": {
   "accelerator": "none",
   "dataSources": [
    {
     "datasetId": 2788518,
     "sourceId": 4815449,
     "sourceType": "datasetVersion"
    },
    {
     "datasetId": 3162983,
     "sourceId": 5477644,
     "sourceType": "datasetVersion"
    },
    {
     "datasetId": 3932900,
     "sourceId": 6841459,
     "sourceType": "datasetVersion"
    }
   ],
   "dockerImageVersionId": 30761,
   "isGpuEnabled": false,
   "isInternetEnabled": false,
   "language": "python",
   "sourceType": "notebook"
  },
  "kernelspec": {
   "display_name": "base",
   "language": "python",
   "name": "python3"
  },
  "language_info": {
   "codemirror_mode": {
    "name": "ipython",
    "version": 3
   },
   "file_extension": ".py",
   "mimetype": "text/x-python",
   "name": "python",
   "nbconvert_exporter": "python",
   "pygments_lexer": "ipython3",
   "version": "3.12.4"
  },
  "papermill": {
   "default_parameters": {},
   "duration": 17.413714,
   "end_time": "2024-09-11T08:13:38.792366",
   "environment_variables": {},
   "exception": null,
   "input_path": "__notebook__.ipynb",
   "output_path": "__notebook__.ipynb",
   "parameters": {},
   "start_time": "2024-09-11T08:13:21.378652",
   "version": "2.6.0"
  }
 },
 "nbformat": 4,
 "nbformat_minor": 5
}
